{
 "cells": [
  {
   "cell_type": "code",
   "execution_count": 1,
   "id": "d79c920f",
   "metadata": {},
   "outputs": [],
   "source": [
    "import math\n",
    "import numpy as np\n",
    "import os"
   ]
  },
  {
   "cell_type": "code",
   "execution_count": 3,
   "id": "95f7b0c1",
   "metadata": {},
   "outputs": [],
   "source": [
    "# z = image.Bounds.SizeZ\n",
    "z = 697\n",
    "max_z_slices = 300"
   ]
  },
  {
   "cell_type": "code",
   "execution_count": 4,
   "id": "126d71cd",
   "metadata": {},
   "outputs": [
    {
     "name": "stdout",
     "output_type": "stream",
     "text": [
      "3\n",
      "232\n",
      "12\n"
     ]
    }
   ],
   "source": [
    "stack_range_subets = []\n",
    "if z > max_z_slices:\n",
    "    z_split_factor = int(math.ceil(z / max_z_slices))\n",
    "    print(z_split_factor)\n",
    "    for j in range(0, z_split_factor):\n",
    "        stack_range_subets.append(str(j))\n",
    "    z_middle = int(math.floor(z / z_split_factor))\n",
    "    print(z_middle)\n",
    "    z_middle_overlap = int(math.ceil(z_middle * 0.05))\n",
    "    print(z_middle_overlap)\n"
   ]
  },
  {
   "cell_type": "code",
   "execution_count": null,
   "id": "6b2a4fce",
   "metadata": {},
   "outputs": [],
   "source": [
    "\n",
    "for j in range(0, len(stack_range_subets)):\n",
    "    if j == 0:\n",
    "        stack_range_subets[j] = \"Z(\"+str(1) + \"-\" + str( ((j + 1) * z_middle) + z_middle_overlap) + \")\"\n",
    "    elif j == len(stack_range_subets)-1:\n",
    "        stack_range_subets[j] = \"Z(\"+str(z) + \"-\" + str( ((j) * z_middle) - z_middle_overlap) + \")\"\n",
    "    else:\n",
    "        stack_range_subets[j] = \"Z(\"+str(((j + 1) * z_middle) + z_middle_overlap) + \"-\" + str( j * z_middle) + \")\""
   ]
  }
 ],
 "metadata": {
  "kernelspec": {
   "display_name": "pytests",
   "language": "python",
   "name": "python3"
  },
  "language_info": {
   "codemirror_mode": {
    "name": "ipython",
    "version": 3
   },
   "file_extension": ".py",
   "mimetype": "text/x-python",
   "name": "python",
   "nbconvert_exporter": "python",
   "pygments_lexer": "ipython3",
   "version": "3.10.14"
  }
 },
 "nbformat": 4,
 "nbformat_minor": 5
}
