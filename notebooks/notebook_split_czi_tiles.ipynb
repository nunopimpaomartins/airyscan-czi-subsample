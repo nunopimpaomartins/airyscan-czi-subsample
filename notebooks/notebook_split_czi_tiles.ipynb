{
 "cells": [
  {
   "cell_type": "markdown",
   "metadata": {},
   "source": [
    "# Import packages\n",
    "run the following cell to import necessary packages to run the analysis"
   ]
  },
  {
   "cell_type": "code",
   "execution_count": 1,
   "metadata": {},
   "outputs": [],
   "source": [
    "import os\n",
    "from pathlib import Path\n",
    "\n",
    "import dask.array as da\n",
    "import xarray as xr\n",
    "import tifffile\n",
    "import ngff_zarr\n",
    "\n",
    "from matplotlib import pyplot as plt\n",
    "from tqdm.notebook import tqdm\n",
    "import numpy as np\n",
    "# from pylibCZIrw import czi as pyczi\n",
    "# from bioio import BioImage\n",
    "# import bioio_czi"
   ]
  },
  {
   "cell_type": "markdown",
   "metadata": {},
   "source": [
    "# Reading data"
   ]
  },
  {
   "cell_type": "code",
   "execution_count": 2,
   "metadata": {},
   "outputs": [
    {
     "name": "stdout",
     "output_type": "stream",
     "text": [
      "2\n"
     ]
    }
   ],
   "source": [
    "data_path = Path('/mnt/Data/nuno_martins/Image_data/Ex010_Re01/ExM/20250325/test_dir/')\n",
    "filelist = os.listdir(data_path)\n",
    "print(len(filelist))"
   ]
  },
  {
   "cell_type": "code",
   "execution_count": 3,
   "metadata": {},
   "outputs": [
    {
     "data": {
      "text/plain": [
       "['NPM_Ex010_Re03_gel_Im-02_AcquisitionBlock3_pt3_sub1-Scene-1-Airyscan Processing-05_2.czi']"
      ]
     },
     "execution_count": 3,
     "metadata": {},
     "output_type": "execute_result"
    }
   ],
   "source": [
    "filelist = [x for x in filelist if x.find('.czi')>0]\n",
    "filelist.sort()\n",
    "filelist"
   ]
  },
  {
   "cell_type": "code",
   "execution_count": 4,
   "metadata": {},
   "outputs": [
    {
     "name": "stdout",
     "output_type": "stream",
     "text": [
      "/mnt/Data/nuno_martins/Image_data/Ex010_Re01/ExM/20250325/test_dir/NPM_Ex010_Re03_gel_Im-02_AcquisitionBlock3_pt3_sub1-Scene-1-Airyscan Processing-05_2.czi\n",
      "NPM_Ex010_Re03_gel_Im-02_AcquisitionBlock3_pt3_sub1-Scene-1-Airyscan Processing-05_2\n"
     ]
    }
   ],
   "source": [
    "file_index = 0\n",
    "file_path = str(data_path)+'/'+filelist[file_index]\n",
    "filename = filelist[file_index][:filelist[file_index].index('.czi')]\n",
    "print(file_path)\n",
    "print(filename)"
   ]
  },
  {
   "cell_type": "code",
   "execution_count": 5,
   "metadata": {},
   "outputs": [
    {
     "name": "stdout",
     "output_type": "stream",
     "text": [
      "/mnt/Data/nuno_martins/Image_data/Ex010_Re01/ExM/20250325/test_dir/split_czi\n"
     ]
    }
   ],
   "source": [
    "save_path = Path(str(data_path)+'/split_czi')\n",
    "save_path.mkdir(parents=True, exist_ok=True)\n",
    "print(save_path)"
   ]
  },
  {
   "cell_type": "markdown",
   "metadata": {},
   "source": [
    "___\n",
    "# Read raw data\n",
    "reading raw tile data from `czi` tile without stitching for visualization."
   ]
  },
  {
   "cell_type": "code",
   "execution_count": 6,
   "metadata": {},
   "outputs": [],
   "source": [
    "from bioio import BioImage\n",
    "import bioio_czi"
   ]
  },
  {
   "cell_type": "code",
   "execution_count": 9,
   "metadata": {},
   "outputs": [
    {
     "data": {
      "text/plain": [
       "(<Dimensions [M: 4, T: 1, C: 3, Z: 238, Y: 4084, X: 4084]>, 'MTCZYX')"
      ]
     },
     "execution_count": 9,
     "metadata": {},
     "output_type": "execute_result"
    }
   ],
   "source": [
    "img = BioImage(\n",
    "    file_path, \n",
    "    reader=bioio_czi.Reader, \n",
    "    reconstruct_mosaic=False,\n",
    "    include_subblock_metadata=True,\n",
    "    use_aicspylibczi=True,\n",
    "    )\n",
    "img.dims, img.dims.order"
   ]
  },
  {
   "cell_type": "code",
   "execution_count": 10,
   "metadata": {},
   "outputs": [
    {
     "data": {
      "text/plain": [
       "(Scale(T=None, C=None, Z=0.4, Y=0.04708196466619325, X=0.04708196466619325),\n",
       " [np.str_('AF647-T1'), np.str_('AF488-T2'), np.str_('DAPI-T3')])"
      ]
     },
     "execution_count": 10,
     "metadata": {},
     "output_type": "execute_result"
    }
   ],
   "source": [
    "img.scale, img.channel_names"
   ]
  },
  {
   "cell_type": "code",
   "execution_count": 12,
   "metadata": {},
   "outputs": [
    {
     "name": "stdout",
     "output_type": "stream",
     "text": [
      "<Dimensions [M: 4, T: 1, C: 3, Z: 238, Y: 4084, X: 4084]> TR1\n"
     ]
    }
   ],
   "source": [
    "# img.scenes\n",
    "for scene in img.scenes:\n",
    "    img.set_scene(scene)\n",
    "    print(img.dims, img.current_scene)"
   ]
  },
  {
   "cell_type": "code",
   "execution_count": null,
   "metadata": {},
   "outputs": [],
   "source": [
    "# def getDimensionPosition(dimension_order, dimension_name):\n",
    "#     return dimension_order.index(dimension_name)"
   ]
  },
  {
   "cell_type": "code",
   "execution_count": 14,
   "metadata": {},
   "outputs": [],
   "source": [
    "from pylibCZIrw import czi as pyczi"
   ]
  },
  {
   "cell_type": "code",
   "execution_count": 16,
   "metadata": {},
   "outputs": [
    {
     "name": "stdout",
     "output_type": "stream",
     "text": [
      "AF647-T1\n",
      "AF488-T2\n",
      "DAPI-T3\n"
     ]
    }
   ],
   "source": [
    "for name in img.channel_names:\n",
    "    print(name)"
   ]
  },
  {
   "cell_type": "code",
   "execution_count": 23,
   "metadata": {},
   "outputs": [
    {
     "data": {
      "application/vnd.jupyter.widget-view+json": {
       "model_id": "2536395d63284fbdb4a90f21f3fba962",
       "version_major": 2,
       "version_minor": 0
      },
      "text/plain": [
       "  0%|          | 0/4 [00:00<?, ?it/s]"
      ]
     },
     "metadata": {},
     "output_type": "display_data"
    }
   ],
   "source": [
    "n_tiles = img.dims['M'][0]\n",
    "\n",
    "img.scale\n",
    "scale_x = img.scale.X\n",
    "scale_y = img.scale.Y\n",
    "scale_z = img.scale.Z\n",
    "\n",
    "for tile in tqdm(range(n_tiles)):\n",
    "    img_data = img.get_image_dask_data(img.dims.order[1:], M=tile) # TODO search for dim index\n",
    "    img_data_tile = img_data.compute()\n",
    "\n",
    "    ch_names  = {}\n",
    "    for i in range(len(img.channel_names)):\n",
    "        ch_names[i] = img.channel_names[i]\n",
    "    \n",
    "\n",
    "    tile_save_path = str(save_path)+'/'+filename+'_tile_'+str(tile+1).zfill(2)+'.czi'\n",
    "\n",
    "    with pyczi.create_czi(tile_save_path, exist_ok=True) as czidoc_w:\n",
    "        for t in range(img.dims['T'][0]):\n",
    "            for c in range(img.dims['C'][0]):\n",
    "                for z in range(img.dims['Z'][0]):\n",
    "                    temp_image = img_data_tile[t, c, z, ...]\n",
    "                    czidoc_w.write(\n",
    "                        data=temp_image,\n",
    "                        plane = {\n",
    "                            'T': t,\n",
    "                            'Z': z,\n",
    "                            'C': c,\n",
    "                        },\n",
    "                        compression_options = \"zstd0:ExplicitLevel=2\",\n",
    "                    )\n",
    "        \n",
    "        czidoc_w.write_metadata(\n",
    "            filename+'_tile_'+str(tile+1).zfill(2),\n",
    "            channel_names = ch_names,\n",
    "            scale_x = scale_x,\n",
    "            scale_y = scale_y,\n",
    "            scale_z = scale_z,\n",
    "        )\n",
    "\n"
   ]
  },
  {
   "cell_type": "code",
   "execution_count": null,
   "metadata": {},
   "outputs": [],
   "source": []
  }
 ],
 "metadata": {
  "kernelspec": {
   "display_name": "pyczi",
   "language": "python",
   "name": "python3"
  },
  "language_info": {
   "codemirror_mode": {
    "name": "ipython",
    "version": 3
   },
   "file_extension": ".py",
   "mimetype": "text/x-python",
   "name": "python",
   "nbconvert_exporter": "python",
   "pygments_lexer": "ipython3",
   "version": "3.10.16"
  }
 },
 "nbformat": 4,
 "nbformat_minor": 2
}
