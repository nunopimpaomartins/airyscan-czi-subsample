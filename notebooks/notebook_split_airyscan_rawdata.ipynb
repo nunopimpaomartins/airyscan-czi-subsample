{
 "cells": [
  {
   "cell_type": "markdown",
   "metadata": {},
   "source": [
    "# Import packages\n",
    "run the following cell to import necessary packages to run the analysis"
   ]
  },
  {
   "cell_type": "code",
   "execution_count": 18,
   "metadata": {},
   "outputs": [],
   "source": [
    "import os\n",
    "from pathlib import Path\n",
    "from tqdm.notebook import tqdm\n",
    "from bioio import BioImage\n",
    "import bioio_czi\n",
    "from pylibCZIrw import czi as pyczi\n",
    "import numpy as np"
   ]
  },
  {
   "cell_type": "markdown",
   "metadata": {},
   "source": [
    "# Reading data"
   ]
  },
  {
   "cell_type": "code",
   "execution_count": 2,
   "metadata": {},
   "outputs": [
    {
     "name": "stdout",
     "output_type": "stream",
     "text": [
      "2\n"
     ]
    }
   ],
   "source": [
    "data_path = Path('/media/npmartins/Data/nuno_martins/Image_data/NPM_Ex004_Re04/20241204_c2/NPM_Ex004_Re04_gel2_c2_Im-01_AcquisitionBlock1.czi/')\n",
    "filelist = os.listdir(data_path)\n",
    "print(len(filelist))"
   ]
  },
  {
   "cell_type": "code",
   "execution_count": 3,
   "metadata": {},
   "outputs": [],
   "source": [
    "filelist = [x for x in filelist if x.find('.czi')>0]\n",
    "filelist.sort()"
   ]
  },
  {
   "cell_type": "code",
   "execution_count": 4,
   "metadata": {},
   "outputs": [
    {
     "name": "stdout",
     "output_type": "stream",
     "text": [
      "/media/npmartins/Data/nuno_martins/Image_data/NPM_Ex004_Re04/20241204_c2/NPM_Ex004_Re04_gel2_c2_Im-01_AcquisitionBlock1.czi/NPM_Ex004_Re04_gel2_c2_Im-01_AcquisitionBlock1.czi\n",
      "NPM_Ex004_Re04_gel2_c2_Im-01_AcquisitionBlock1\n"
     ]
    }
   ],
   "source": [
    "file_index = 0\n",
    "file_path = str(data_path)+'/'+filelist[file_index]\n",
    "filename = filelist[file_index][:filelist[file_index].index('.czi')]\n",
    "print(file_path)\n",
    "print(filename)"
   ]
  },
  {
   "cell_type": "code",
   "execution_count": 30,
   "metadata": {},
   "outputs": [
    {
     "name": "stdout",
     "output_type": "stream",
     "text": [
      "/media/npmartins/Data/nuno_martins/Image_data/NPM_Ex004_Re04/20241204_c2/NPM_Ex004_Re04_gel2_c2_Im-01_AcquisitionBlock1.czi/split_czi\n"
     ]
    }
   ],
   "source": [
    "save_path = Path(str(data_path)+'/split_czi')\n",
    "save_path.mkdir(parents=True, exist_ok=True)\n",
    "print(save_path)"
   ]
  },
  {
   "cell_type": "markdown",
   "metadata": {},
   "source": [
    "___\n",
    "with Zeiss library `pylibczirw`\n"
   ]
  },
  {
   "cell_type": "code",
   "execution_count": 45,
   "metadata": {},
   "outputs": [],
   "source": [
    "with pyczi.open_czi(file_path) as czidoc:\n",
    "    md_xml = czidoc.raw_metadata\n",
    "\n",
    "# with open('./xml_metadata_airyscan.xml', 'w') as output:\n",
    "#     output.write(md_xml)"
   ]
  },
  {
   "cell_type": "code",
   "execution_count": 82,
   "metadata": {},
   "outputs": [
    {
     "name": "stdout",
     "output_type": "stream",
     "text": [
      "{0: Rectangle(x=2143565, y=736187, w=3632, h=3632)}\n",
      "{0: Rectangle(x=2143565, y=736187, w=3632, h=3632)}\n",
      "{'T': (0, 1), 'Z': (0, 344), 'C': (0, 6), 'H': (0, 2), 'X': (2143565, 2147197), 'Y': (736187, 739819)}\n",
      "{0: 'Gray8', 1: 'Gray8', 2: 'Gray8', 3: 'Gray8', 4: 'Gray8', 5: 'Gray8'}\n"
     ]
    }
   ],
   "source": [
    "with pyczi.open_czi(file_path) as czidoc:\n",
    "    md_dic = czidoc.metadata\n",
    "    # print(md_xml[:1000])\n",
    "    dims_all = czidoc.scenes_bounding_rectangle_no_pyramid\n",
    "    print(dims_all)\n",
    "    bd = czidoc.scenes_bounding_rectangle\n",
    "    print(bd)\n",
    "    tbd = czidoc.total_bounding_box\n",
    "    print(tbd)\n",
    "    pixel_types = czidoc.pixel_types\n",
    "    print(pixel_types)"
   ]
  },
  {
   "cell_type": "code",
   "execution_count": 81,
   "metadata": {},
   "outputs": [
    {
     "name": "stdout",
     "output_type": "stream",
     "text": [
      "{'@Id': 'Channel:0', '@Name': 'AF647-T1', 'BitCountRange': '8', 'PixelType': 'Gray8', 'IlluminationType': 'Fluorescence', 'Color': '#FFFF0014', 'OriginalColor': '#FFFF0014'}\n",
      "{'@Id': 'Channel:1', '@Name': 'AF647#-T1', 'BitCountRange': '8', 'PixelType': 'Gray8', 'IlluminationType': 'Fluorescence', 'Color': '#FFFF0014', 'OriginalColor': '#FFFF0014'}\n",
      "{'@Id': 'Channel:2', '@Name': 'AF568-T2', 'BitCountRange': '8', 'PixelType': 'Gray8', 'IlluminationType': 'Fluorescence', 'Color': '#FFFF6600', 'OriginalColor': '#FFFF6600'}\n",
      "{'@Id': 'Channel:3', '@Name': 'AF568#-T2', 'BitCountRange': '8', 'PixelType': 'Gray8', 'IlluminationType': 'Fluorescence', 'Color': '#FFFF6600', 'OriginalColor': '#FFFF6600'}\n",
      "{'@Id': 'Channel:4', '@Name': 'DAPI-T3', 'BitCountRange': '8', 'PixelType': 'Gray8', 'IlluminationType': 'Fluorescence', 'Color': '#FF00A1FF', 'OriginalColor': '#FF00A1FF'}\n",
      "{'@Id': 'Channel:5', '@Name': 'DAPI#-T3', 'BitCountRange': '8', 'PixelType': 'Gray8', 'IlluminationType': 'Fluorescence', 'Color': '#FF00A1FF', 'OriginalColor': '#FF00A1FF'}\n"
     ]
    }
   ],
   "source": [
    "channels_display = md_dic['ImageDocument']['Metadata']['DisplaySetting']['Channels']['Channel']\n",
    "# len(channels_display), channels_display[1]\n",
    "for i in range(len(channels_display)):\n",
    "    print(channels_display[i])"
   ]
  },
  {
   "cell_type": "markdown",
   "metadata": {},
   "source": [
    "___\n",
    "with `bioio` and `bioio-czi`\n"
   ]
  },
  {
   "cell_type": "code",
   "execution_count": 6,
   "metadata": {},
   "outputs": [
    {
     "data": {
      "text/plain": [
       "(<Dimensions [T: 1, C: 6, Z: 344, Y: 3632, X: 3632]>, 'TCZYX')"
      ]
     },
     "execution_count": 6,
     "metadata": {},
     "output_type": "execute_result"
    }
   ],
   "source": [
    "img = BioImage(file_path, reader=bioio_czi.Reader)\n",
    "img.dims, img.dims.order"
   ]
  },
  {
   "cell_type": "markdown",
   "metadata": {},
   "source": [
    "___ \n",
    "Read and write airyscan data\n",
    "\n",
    "### save single channel for processing"
   ]
  },
  {
   "cell_type": "code",
   "execution_count": 22,
   "metadata": {},
   "outputs": [],
   "source": [
    "def getDimensionPosition(dimension_order, dimension_name):\n",
    "    return dimension_order.index(dimension_name)"
   ]
  },
  {
   "cell_type": "code",
   "execution_count": 39,
   "metadata": {},
   "outputs": [
    {
     "data": {
      "application/vnd.jupyter.widget-view+json": {
       "model_id": "74854bb4d5a44b869560de43c93f6bde",
       "version_major": 2,
       "version_minor": 0
      },
      "text/plain": [
       "  0%|          | 0/344 [00:00<?, ?it/s]"
      ]
     },
     "metadata": {},
     "output_type": "display_data"
    }
   ],
   "source": [
    "with pyczi.open_czi(file_path) as czidoc_r:\n",
    "    tbd = czidoc_r.total_bounding_box\n",
    "    bd = czidoc_r.scenes_bounding_rectangle\n",
    "\n",
    "    save_file_path = str(save_path)+'/'+filename+'_ch1'+'.czi'\n",
    "    with pyczi.create_czi(save_file_path, exist_ok=True) as czidoc_w:\n",
    "        for t in range(tbd['T'][-1]):\n",
    "            for slice in tqdm(range(tbd['Z'][-1])):\n",
    "                for channel in range(2):\n",
    "                    for phase in range(tbd['H'][-1]):\n",
    "                        slice_temp = czidoc_r.read(plane={'T': t, 'Z': slice, 'C': channel, 'H': phase})\n",
    "                        czidoc_w.write(\n",
    "                            data=slice_temp,\n",
    "                            plane={\n",
    "                                'T': t,\n",
    "                                'Z': slice,\n",
    "                                'C': channel,\n",
    "                                'H': phase,\n",
    "                            }\n",
    "                        )\n",
    "\n",
    "\n"
   ]
  },
  {
   "cell_type": "markdown",
   "metadata": {},
   "source": [
    "from Zeiss' website"
   ]
  },
  {
   "cell_type": "code",
   "execution_count": null,
   "metadata": {},
   "outputs": [],
   "source": [
    "# data = inference_service.run() # [2, y, x] array with 2 being the number of classes.\n",
    "\n",
    "# with czi.open_czi(path, 'w'):\n",
    "\n",
    "#     class_nuclei = data[0,:,:]\n",
    "#     channel_0 = { 'C': 0 }\n",
    "\n",
    "#     czi.write(data=class_nuclei, location=(0,0), plane=channel_0, compression_options = \"zstd0:ExplicitLevel=0\" )\n",
    "\n",
    "#     class_background = data[1,:,:]\n",
    "#     channel_1 = { 'C': 1 }\n",
    "\n",
    "#     czi.write(data=class_background, location=(0,0), plane=channel_1, compression_options = \"zstd1:ExplicitLevel=2\" )\n",
    "\n",
    "#     # If we stopped here, we'd have a valid CZI. But we want to name the channels after the classes.\n",
    "\n",
    "#     channel_names = { 0: \"C1\", 1: \"C2\" }\n",
    "#     custom_attributes = {\"key1\": \"value1\", \"key2\": \"value2\"}\n",
    "\n",
    "#     czi.write_metadata(channel_names=channel_names, scale_x=0.1 * 1e-6, scale_y=0.1 * 1e-6, custom_attributes=custom_attributes)\n",
    "\n",
    "#     # If we want to specify specific colors for specific channels, we write as follows:\n",
    "#     # In this case we are specifying c1 as blue and c2 as green.\n",
    "    \n",
    "#     display_setting_dict: Dict[int, ChannelDisplaySettingsDataClass] = {}\n",
    "#     tint_color_c1 = Rgb8Color(np.uint8(0x00), np.uint8(0xFF), np.uint8(0x00))\n",
    "#     channel_setting_c1 = ChannelDisplaySettingsDataClass(True, TintingMode.Color, tint_color_c1)\n",
    "#     display_setting_dict[0] = channel_setting_c1\n",
    "#     tint_color_c2 = Rgb8Color(np.uint8(0x00), np.uint8(0x00), np.uint8(0xFF))\n",
    "#     channel_setting_c2 = ChannelDisplaySettingsDataClass(True, TintingMode.Color, tint_color_c2)\n",
    "#     display_setting_dict[1] = channel_setting_c2\n",
    "\n",
    "#     czi.write_metadata(display_settings=display_setting_dict)\n",
    "\n",
    "#     # Similarly, if we want to specify specific colors and black/white levels for specific channels, we write as follows:\n",
    "#     # In this case we are specifying c1 as blue and c2 as green.\n",
    "#     # Additionally we specify c1 with black point as 0.2 and white point as 0.8 and c2 with black point as 0.3 and white point as 0.75.\n",
    "\n",
    "#     display_setting_dict: Dict[int, ChannelDisplaySettingsDataClass] = {}\n",
    "#     tint_color_c1 = Rgb8Color(np.uint8(0x00), np.uint8(0xFF), np.uint8(0x00))\n",
    "#     channel_setting_c1 = ChannelDisplaySettingsDataClass(True, TintingMode.Color, tint_color_c1, 0.2, 0.8)\n",
    "#     display_setting_dict[0] = channel_setting_c1\n",
    "#     tint_color_c2 = Rgb8Color(np.uint8(0x00), np.uint8(0x00), np.uint8(0xFF))\n",
    "#     channel_setting_c2 = ChannelDisplaySettingsDataClass(True, TintingMode.Color, tint_color_c2, 0.3, 0.75)\n",
    "#     display_setting_dict[1] = channel_setting_c2\n",
    "\n",
    "#     czi.write_metadata(display_settings=display_setting_dict)\n",
    "\n",
    "#     # Note: writing display setting for a channel overwrites any existing display setting as we do not fetch the current display setting.\n",
    "#     # Note: There is no 1:1 relationship enforced. A user may decide to add display settings to each channel or only to some channels.\n",
    "#     #       Similarly, it is not verified if the user sends more display settings than channels present.\n",
    "#     #       Display setting that are not written will be set as 'empty' regardless of if the initially existed for that channel."
   ]
  },
  {
   "cell_type": "code",
   "execution_count": null,
   "metadata": {},
   "outputs": [],
   "source": []
  }
 ],
 "metadata": {
  "kernelspec": {
   "display_name": "pytests",
   "language": "python",
   "name": "python3"
  },
  "language_info": {
   "codemirror_mode": {
    "name": "ipython",
    "version": 3
   },
   "file_extension": ".py",
   "mimetype": "text/x-python",
   "name": "python",
   "nbconvert_exporter": "python",
   "pygments_lexer": "ipython3",
   "version": "3.10.14"
  }
 },
 "nbformat": 4,
 "nbformat_minor": 2
}
