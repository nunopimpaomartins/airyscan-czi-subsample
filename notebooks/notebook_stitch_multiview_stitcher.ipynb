{
 "cells": [
  {
   "cell_type": "markdown",
   "metadata": {},
   "source": [
    "# Import packages\n",
    "run the following cell to import necessary packages to run the analysis"
   ]
  },
  {
   "cell_type": "code",
   "execution_count": 1,
   "metadata": {},
   "outputs": [],
   "source": [
    "import os\n",
    "from pathlib import Path\n",
    "import zipfile\n",
    "import xarray as xr\n",
    "\n",
    "from tqdm.notebook import tqdm\n",
    "import numpy as np\n",
    "import dask.diagnostics\n",
    "import ngff_zarr\n",
    "import dask.array as da\n",
    "import tifffile\n",
    "import zarr\n",
    "from ome_zarr.io import parse_url\n",
    "from ome_zarr.reader import Reader\n",
    "from multiview_stitcher import spatial_image_utils as si_utils\n",
    "from multiview_stitcher import (\n",
    "    fusion,\n",
    "    io,\n",
    "    msi_utils,\n",
    "    vis_utils,\n",
    "    ngff_utils,\n",
    "    param_utils,\n",
    "    registration\n",
    ")"
   ]
  },
  {
   "cell_type": "markdown",
   "metadata": {},
   "source": [
    "# Reading data"
   ]
  },
  {
   "cell_type": "code",
   "execution_count": 5,
   "metadata": {},
   "outputs": [
    {
     "name": "stdout",
     "output_type": "stream",
     "text": [
      "14\n"
     ]
    }
   ],
   "source": [
    "# data_path = Path('/mnt/Data/nuno_martins/Image_data/Ex011_Re01/ExM/sample_data/')\n",
    "data_path = Path('/mnt/d/NPMartins/Data/Ex010_Re01/20250325/Airyscan_processed/stitched_tile_3d/')\n",
    "filelist = os.listdir(data_path)\n",
    "print(len(filelist))"
   ]
  },
  {
   "cell_type": "code",
   "execution_count": 6,
   "metadata": {},
   "outputs": [
    {
     "data": {
      "text/plain": [
       "['NPM_Ex010_Re03_gel_Im-02_AcquisitionBlock1_pt1_tile01.zarr',\n",
       " 'NPM_Ex010_Re03_gel_Im-02_AcquisitionBlock1_pt1_tile02.zarr',\n",
       " 'NPM_Ex010_Re03_gel_Im-02_AcquisitionBlock3_pt3_tile01.zarr',\n",
       " 'NPM_Ex010_Re03_gel_Im-02_AcquisitionBlock3_pt3_tile02.zarr',\n",
       " 'NPM_Ex010_Re03_gel_Im-02_AcquisitionBlock3_pt3_tile03.zarr',\n",
       " 'NPM_Ex010_Re03_gel_Im-02_AcquisitionBlock3_pt3_tile04.zarr',\n",
       " 'NPM_Ex010_Re03_gel_Im-02_AcquisitionBlock4_pt4_tile01.zarr',\n",
       " 'NPM_Ex010_Re03_gel_Im-02_AcquisitionBlock4_pt4_tile02.zarr',\n",
       " 'NPM_Ex010_Re03_gel_Im-02_AcquisitionBlock4_pt4_tile03.zarr',\n",
       " 'NPM_Ex010_Re03_gel_Im-02_AcquisitionBlock4_pt4_tile04.zarr',\n",
       " 'NPM_Ex010_Re03_gel_Im-02_AcquisitionBlock4_pt4_tile05.zarr',\n",
       " 'NPM_Ex010_Re03_gel_Im-02_AcquisitionBlock4_pt4_tile06.zarr']"
      ]
     },
     "execution_count": 6,
     "metadata": {},
     "output_type": "execute_result"
    }
   ],
   "source": [
    "filelist = [x for x in filelist if x.find('.zarr')>0]\n",
    "filelist.sort()\n",
    "filelist"
   ]
  },
  {
   "cell_type": "code",
   "execution_count": 31,
   "metadata": {},
   "outputs": [
    {
     "data": {
      "text/plain": [
       "['NPM_Ex010_Re03_gel_Im-02_AcquisitionBlock1_pt1_tile01.zarr',\n",
       " 'NPM_Ex010_Re03_gel_Im-02_AcquisitionBlock1_pt1_tile02.zarr']"
      ]
     },
     "execution_count": 31,
     "metadata": {},
     "output_type": "execute_result"
    }
   ],
   "source": [
    "tiles = range(2)\n",
    "filelist_tiles = [filelist[i] for i in tiles]\n",
    "filelist_tiles"
   ]
  },
  {
   "cell_type": "code",
   "execution_count": 33,
   "metadata": {},
   "outputs": [
    {
     "data": {
      "text/plain": [
       "['NPM_Ex010_Re03_gel_Im-02_AcquisitionBlock1_pt1_tile01',\n",
       " 'NPM_Ex010_Re03_gel_Im-02_AcquisitionBlock1_pt1_tile02']"
      ]
     },
     "execution_count": 33,
     "metadata": {},
     "output_type": "execute_result"
    }
   ],
   "source": [
    "filelist_tiles_save = [x[:x.index('.zarr')] for x in filelist_tiles]\n",
    "filelist_tiles_save"
   ]
  },
  {
   "cell_type": "code",
   "execution_count": 34,
   "metadata": {},
   "outputs": [
    {
     "name": "stdout",
     "output_type": "stream",
     "text": [
      "Example filename:\n",
      " /mnt/d/NPMartins/Data/Ex010_Re01/20250325/Airyscan_processed/stitched_tile_3d/NPM_Ex010_Re03_gel_Im-02_AcquisitionBlock1_pt1_tile01.zarr\n"
     ]
    }
   ],
   "source": [
    "\n",
    "def get_filename_from_tile_and_channel(tile):\n",
    "    \"\"\"\n",
    "    This convenience function returns the filename given the tile and channel.\n",
    "    \"\"\"\n",
    "    return data_path / f'{tile}'\n",
    "\n",
    "print('Example filename:\\n', get_filename_from_tile_and_channel(filelist_tiles[0]))"
   ]
  },
  {
   "cell_type": "code",
   "execution_count": 35,
   "metadata": {},
   "outputs": [
    {
     "name": "stdout",
     "output_type": "stream",
     "text": [
      "/mnt/d/NPMartins/Data/Ex010_Re01/20250325/Airyscan_processed/stitched_tile_3d/stitched_files_2d\n"
     ]
    }
   ],
   "source": [
    "save_path = Path(str(data_path)+'/stitched_files_2d/')\n",
    "save_path.mkdir(parents=True, exist_ok=True)\n",
    "print(save_path)"
   ]
  },
  {
   "cell_type": "markdown",
   "metadata": {},
   "source": [
    "___\n",
    "# Arranging tiles on a grid\n"
   ]
  },
  {
   "cell_type": "code",
   "execution_count": 36,
   "metadata": {},
   "outputs": [
    {
     "name": "stdout",
     "output_type": "stream",
     "text": [
      "Tile grid indices:\n",
      "Tile 0: {'z': 0, 'y': 0, 'x': 0}\n",
      "Tile 1: {'z': 0, 'y': 0, 'x': 1}\n"
     ]
    }
   ],
   "source": [
    "# indicate how the tile index maps onto the grid position for each tile index\n",
    "# (as a function of the tile index)\n",
    "# examples:\n",
    "#  get_tile_grid_position_from_tile_index(0) -> {'z': 0, 'y': 0, 'x': 0}\n",
    "#  get_tile_grid_position_from_tile_index(1) -> {'z': 0, 'y': 0, 'x': 1}\n",
    "#  get_tile_grid_position_from_tile_index(2) -> {'z': 0, 'y': 1, 'x': 0}\n",
    "#  etc.\n",
    "num_cols = 2\n",
    "\n",
    "def get_tile_grid_position_from_tile_index(tile_index, z_index=0, num_xy_columns=num_cols):\n",
    "    # num_xy_columns = 2\n",
    "    return {\n",
    "        'z': z_index, # all tiles are on the same z position\n",
    "        'y': tile_index // num_xy_columns,\n",
    "        'x': tile_index % num_xy_columns if (tile_index // num_xy_columns) % 2 == 0 else num_xy_columns - 1 - (tile_index % num_xy_columns)\n",
    "    }\n",
    "\n",
    "print(\"Tile grid indices:\")\n",
    "print(\"\\n\".join([f\"Tile {itile}: \" + str(get_tile_grid_position_from_tile_index(itile))\n",
    "    for itile, tile in enumerate(tiles)]))"
   ]
  },
  {
   "cell_type": "markdown",
   "metadata": {},
   "source": [
    "___\n",
    "# Read raw data\n",
    "reading raw tile data from `czi` tile without stitching for visualization."
   ]
  },
  {
   "cell_type": "code",
   "execution_count": 9,
   "metadata": {},
   "outputs": [],
   "source": [
    "# from tifffile import imread\n",
    "from bioio import BioImage\n",
    "import bioio_czi"
   ]
  },
  {
   "cell_type": "code",
   "execution_count": 10,
   "metadata": {},
   "outputs": [
    {
     "data": {
      "text/plain": [
       "{'z': 400000.00000000006, 'y': 44928.096407997306, 'x': 44928.096407997306}"
      ]
     },
     "execution_count": 10,
     "metadata": {},
     "output_type": "execute_result"
    }
   ],
   "source": [
    "# image_data = imread(str(data_path) + '/' + filelist[file_index])\n",
    "file_path = str(data_path / filelist_tiles[0])\n",
    "img = BioImage(\n",
    "    file_path, \n",
    "    reader=bioio_czi.Reader, \n",
    "    reconstruct_mosaic=False,\n",
    "    include_subblock_metadata=True,\n",
    "    use_aicspylibczi=True,\n",
    "    )\n",
    "\n",
    "scale = {'z': img.scale.Z, 'y': img.scale.Y, 'x': img.scale.X}\n",
    "scale"
   ]
  },
  {
   "cell_type": "code",
   "execution_count": 37,
   "metadata": {},
   "outputs": [
    {
     "name": "stdout",
     "output_type": "stream",
     "text": [
      "Voxel sizes (scales): [1.0, 1.0, 0.4, 0.0470819646661932, 0.0470819646661932]\n",
      "0.4 0.0470819646661932 0.0470819646661932\n"
     ]
    }
   ],
   "source": [
    "file_path = str(data_path / filelist[0])\n",
    "store = parse_url(file_path, mode=\"r\")\n",
    "reader = Reader(store)\n",
    "nodes = list(reader())\n",
    "image_node = nodes[0]  # Get the first image\n",
    "# print(image_node)\n",
    "\n",
    "# Get the pixel sizes (scales)\n",
    "# scales = image_node.multiscales[0]['datasets'][0]['coordinateTransformations'][0]['scale']\n",
    "scales = image_node.metadata['coordinateTransformations'][0][0]['scale']\n",
    "\n",
    "# for key in scales:\n",
    "#     print(f\"{key}: {scales[key]}\")\n",
    "\n",
    "print(\"Voxel sizes (scales):\", scales)\n",
    "\n",
    "print(scales[-3], scales[-2], scales[-1])"
   ]
  },
  {
   "cell_type": "code",
   "execution_count": 30,
   "metadata": {},
   "outputs": [
    {
     "data": {
      "text/plain": [
       "(1, 3, 312, 2042, 2042)"
      ]
     },
     "execution_count": 30,
     "metadata": {},
     "output_type": "execute_result"
    }
   ],
   "source": [
    "image_node.data[0].shape"
   ]
  },
  {
   "cell_type": "code",
   "execution_count": 28,
   "metadata": {},
   "outputs": [
    {
     "data": {
      "text/plain": [
       "(312, 2042, 2042)"
      ]
     },
     "execution_count": 28,
     "metadata": {},
     "output_type": "execute_result"
    }
   ],
   "source": [
    "image_node.data[0].shape[-3], image_node.data[0].shape[-2], image_node.data[0].shape[-1]"
   ]
  },
  {
   "cell_type": "code",
   "execution_count": 11,
   "metadata": {},
   "outputs": [
    {
     "data": {
      "text/plain": [
       "(<Dimensions [M: 4, T: 1, C: 3, Z: 260, Y: 1810, X: 1810]>, 'MTCZYX')"
      ]
     },
     "execution_count": 11,
     "metadata": {},
     "output_type": "execute_result"
    }
   ],
   "source": [
    "img.dims, img.dims.order"
   ]
  },
  {
   "cell_type": "code",
   "execution_count": 72,
   "metadata": {},
   "outputs": [
    {
     "name": "stdout",
     "output_type": "stream",
     "text": [
      "Tile scale: {'z': 0.4, 'y': 0.047, 'x': 0.047} \n",
      " Tile overlap: {'x': 0.1, 'y': 0.1} \n",
      " Tile shape: {'z': 312, 'y': 2042, 'x': 2042}\n"
     ]
    }
   ],
   "source": [
    "# indicate input pixel spacing\n",
    "# will be infered from metadata, but current datasets are incorrect\n",
    "scale = {'z': .4, 'y': .047, 'x': .047}\n",
    "\n",
    "# indicate approximate overlap between tiles relative to the image shape\n",
    "overlap = {\n",
    "    'x': 0.1,  # 10% overlap in x\n",
    "    'y': 0.1,  # 10% overlap in y\n",
    "    # 'z': 0.1   # no overlap in z\n",
    "}\n",
    "\n",
    "# get image data shape from the first tile (without channel dim, i.e. in (z)yx)\n",
    "# (this line can be replaced by e.g.: `tile_shape = {'z': 100, 'y': 1000, 'x': 1000}`)\n",
    "# tile_shape = {\n",
    "#     dim: s for dim, s in zip(\n",
    "#         ['z', 'c', 'y', 'x'],\n",
    "#         tifffile.imread(get_filename_from_tile_and_channel(tiles[0])).shape\n",
    "#     ) if dim != 'c'\n",
    "# }\n",
    "# print(\"Tile shape: \", tile_shape)\n",
    "\n",
    "tile_shape = {\n",
    "    'z': image_node.data[0].shape[-3], # to get the Z dimension\n",
    "    'y': image_node.data[0].shape[-2], # to get the Y dimension\n",
    "    'x': image_node.data[0].shape[-1] # to get the X dimension\n",
    "}\n",
    "print('Tile scale:', scale, '\\n Tile overlap:', overlap, '\\n Tile shape:', tile_shape)\n",
    "# scale, overlap, tile_shape"
   ]
  },
  {
   "cell_type": "code",
   "execution_count": 73,
   "metadata": {},
   "outputs": [
    {
     "name": "stdout",
     "output_type": "stream",
     "text": [
      "Tile positions:\n",
      "Tile 0: {'z': 0.0, 'y': 0.0, 'x': 0.0}\n",
      "Tile 1: {'z': 0.0, 'y': 0.0, 'x': 86.3766}\n"
     ]
    },
    {
     "data": {
      "image/png": "[encoded data removed]",
      "text/plain": [
       "<Figure size 640x480 with 1 Axes>"
      ]
     },
     "metadata": {},
     "output_type": "display_data"
    },
    {
     "data": {
      "text/plain": [
       "(<Figure size 640x480 with 1 Axes>,\n",
       " <Axes3D: xlabel='z [μm]', ylabel='x [μm]', zlabel='y [μm]'>)"
      ]
     },
     "execution_count": 73,
     "metadata": {},
     "output_type": "execute_result"
    }
   ],
   "source": [
    "translations = []\n",
    "for itile, tile in enumerate(tiles):\n",
    "    tile_grid_position = get_tile_grid_position_from_tile_index(itile)\n",
    "    translations.append(\n",
    "        {\n",
    "            dim: tile_grid_position[dim] * (1 - (overlap[dim] if dim in overlap else 1)) * tile_shape[dim] * scale[dim]\n",
    "            for dim in scale\n",
    "        }\n",
    "    )\n",
    "\n",
    "print(\"Tile positions:\")\n",
    "print(\"\\n\".join([f\"Tile {itile}: \" + str(t) for itile, t in enumerate(translations)]))\n",
    "\n",
    "# visualize the tile positions\n",
    "# uncomment the following line to have an interactive 3D visualization (requires `ipympl` to be installed)\n",
    "# %matplotlib ipympl\n",
    "vis_utils.plot_positions(\n",
    "    [msi_utils.get_msim_from_sim(si_utils.get_sim_from_array(\n",
    "        da.zeros([tile_shape[dim] for dim in scale]), dims=list(scale.keys()), scale=scale, translation=translations[i]))\n",
    "        for i in range(len(tiles))],\n",
    "    use_positional_colors=False,\n",
    "    transform_key=io.METADATA_TRANSFORM_KEY,\n",
    ")"
   ]
  },
  {
   "cell_type": "code",
   "execution_count": 74,
   "metadata": {},
   "outputs": [
    {
     "data": {
      "text/plain": [
       "[{'z': 0.0, 'y': 0.0, 'x': 0.0}, {'z': 0.0, 'y': 0.0, 'x': 86.3766}]"
      ]
     },
     "execution_count": 74,
     "metadata": {},
     "output_type": "execute_result"
    }
   ],
   "source": [
    "translations"
   ]
  },
  {
   "cell_type": "code",
   "execution_count": 79,
   "metadata": {},
   "outputs": [
    {
     "data": {
      "application/vnd.jupyter.widget-view+json": {
       "model_id": "d30a69e3f77b4daf95cd4d082d43dd22",
       "version_major": 2,
       "version_minor": 0
      },
      "text/plain": [
       "0it [00:00, ?it/s]"
      ]
     },
     "metadata": {},
     "output_type": "display_data"
    },
    {
     "name": "stdout",
     "output_type": "stream",
     "text": [
      "/mnt/d/NPMartins/Data/Ex010_Re01/20250325/Airyscan_processed/stitched_tile_3d/NPM_Ex010_Re03_gel_Im-02_AcquisitionBlock1_pt1_tile01.zarr\n",
      "/mnt/d/NPMartins/Data/Ex010_Re01/20250325/Airyscan_processed/stitched_tile_3d/NPM_Ex010_Re03_gel_Im-02_AcquisitionBlock1_pt1_tile02.zarr\n"
     ]
    }
   ],
   "source": [
    "# Read input tiles and convert to OME-Zarr files\n",
    "overwrite = False\n",
    "\n",
    "msims = []\n",
    "zarr_paths = []\n",
    "for itile, tile in tqdm(enumerate(filelist_tiles)):\n",
    "\n",
    "    # where to save the zarr(s)\n",
    "    zarr_path = os.path.join(os.path.dirname(get_filename_from_tile_and_channel(tile)), filelist_tiles_save[itile]+'.zarr')\n",
    "\n",
    "    print(zarr_path)\n",
    "\n",
    "    # read tile image\n",
    "    if os.path.exists(zarr_path) and not overwrite:\n",
    "        im_data = da.from_zarr(os.path.join(zarr_path, '0'))[0] # drop t axis automatically added\n",
    "    else:\n",
    "        # im_data = tifffile.imread(get_filename_from_tile_and_channel(tile))\n",
    "        file_path = str(data_path / tile)\n",
    "        img = BioImage(\n",
    "            file_path, \n",
    "            reader=bioio_czi.Reader, \n",
    "            reconstruct_mosaic=False,\n",
    "            include_subblock_metadata=True,\n",
    "            use_aicspylibczi=True,\n",
    "        )\n",
    "        im_data = img.get_image_data(img.dims.order[img.dims.order.index('T')+1:])\n",
    "\n",
    "    sim = si_utils.get_sim_from_array(\n",
    "        im_data,\n",
    "        dims=[\"c\", \"z\", \"y\", \"x\"],\n",
    "        scale=scale,\n",
    "        translation=translations[itile],\n",
    "        transform_key=io.METADATA_TRANSFORM_KEY,\n",
    "        )\n",
    "\n",
    "    # write to OME-Zarr\n",
    "    # ngff_utils.write_sim_to_ome_zarr(sim, zarr_path, overwrite=overwrite)\n",
    "    # replace sim with the sim read from the written OME-Zarr\n",
    "    sim = ngff_utils.read_sim_from_ome_zarr(zarr_path)\n",
    "\n",
    "    # alternatively `write_sim_to_ome_zarr` returns a sim loaded from the written OME-Zarr\n",
    "    # sim = ngff_utils.write_sim_to_ome_zarr(sim, zarr_path, overwrite=overwrite)\n",
    "\n",
    "    msim = msi_utils.get_msim_from_sim(sim)\n",
    "    zarr_paths.append(zarr_path)\n",
    "\n",
    "    msims.append(msim)\n",
    "\n",
    "urls = zarr_paths"
   ]
  },
  {
   "cell_type": "code",
   "execution_count": 80,
   "metadata": {},
   "outputs": [
    {
     "data": {
      "text/html": [
       "<div><svg style=\"position: absolute; width: 0; height: 0; overflow: hidden\">\n",
       "<defs>\n",
       "<symbol id=\"icon-database\" viewBox=\"0 0 32 32\">\n",
       "<path d=\"M16 0c-8.837 0-16 2.239-16 5v4c0 2.761 7.163 5 16 5s16-2.239 16-5v-4c0-2.761-7.163-5-16-5z\"></path>\n",
       "<path d=\"M16 17c-8.837 0-16-2.239-16-5v6c0 2.761 7.163 5 16 5s16-2.239 16-5v-6c0 2.761-7.163 5-16 5z\"></path>\n",
       "<path d=\"M16 26c-8.837 0-16-2.239-16-5v6c0 2.761 7.163 5 16 5s16-2.239 16-5v-6c0 2.761-7.163 5-16 5z\"></path>\n",
       "</symbol>\n",
       "<symbol id=\"icon-file-text2\" viewBox=\"0 0 32 32\">\n",
       "<path d=\"M28.681 7.159c-0.694-0.947-1.662-2.053-2.724-3.116s-2.169-2.030-3.116-2.724c-1.612-1.182-2.393-1.319-2.841-1.319h-15.5c-1.378 0-2.5 1.121-2.5 2.5v27c0 1.378 1.122 2.5 2.5 2.5h23c1.378 0 2.5-1.122 2.5-2.5v-19.5c0-0.448-0.137-1.23-1.319-2.841zM24.543 5.457c0.959 0.959 1.712 1.825 2.268 2.543h-4.811v-4.811c0.718 0.556 1.584 1.309 2.543 2.268zM28 29.5c0 0.271-0.229 0.5-0.5 0.5h-23c-0.271 0-0.5-0.229-0.5-0.5v-27c0-0.271 0.229-0.5 0.5-0.5 0 0 15.499-0 15.5 0v7c0 0.552 0.448 1 1 1h7v19.5z\"></path>\n",
       "<path d=\"M23 26h-14c-0.552 0-1-0.448-1-1s0.448-1 1-1h14c0.552 0 1 0.448 1 1s-0.448 1-1 1z\"></path>\n",
       "<path d=\"M23 22h-14c-0.552 0-1-0.448-1-1s0.448-1 1-1h14c0.552 0 1 0.448 1 1s-0.448 1-1 1z\"></path>\n",
       "<path d=\"M23 18h-14c-0.552 0-1-0.448-1-1s0.448-1 1-1h14c0.552 0 1 0.448 1 1s-0.448 1-1 1z\"></path>\n",
       "</symbol>\n",
       "</defs>\n",
       "</svg>\n",
       "<style>/* CSS stylesheet for displaying xarray objects in jupyterlab.\n",
       " *\n",
       " */\n",
       "\n",
       ":root {\n",
       "  --xr-font-color0: var(--jp-content-font-color0, rgba(0, 0, 0, 1));\n",
       "  --xr-font-color2: var(--jp-content-font-color2, rgba(0, 0, 0, 0.54));\n",
       "  --xr-font-color3: var(--jp-content-font-color3, rgba(0, 0, 0, 0.38));\n",
       "  --xr-border-color: var(--jp-border-color2, #e0e0e0);\n",
       "  --xr-disabled-color: var(--jp-layout-color3, #bdbdbd);\n",
       "  --xr-background-color: var(--jp-layout-color0, white);\n",
       "  --xr-background-color-row-even: var(--jp-layout-color1, white);\n",
       "  --xr-background-color-row-odd: var(--jp-layout-color2, #eeeeee);\n",
       "}\n",
       "\n",
       "html[theme=\"dark\"],\n",
       "html[data-theme=\"dark\"],\n",
       "body[data-theme=\"dark\"],\n",
       "body.vscode-dark {\n",
       "  --xr-font-color0: rgba(255, 255, 255, 1);\n",
       "  --xr-font-color2: rgba(255, 255, 255, 0.54);\n",
       "  --xr-font-color3: rgba(255, 255, 255, 0.38);\n",
       "  --xr-border-color: #1f1f1f;\n",
       "  --xr-disabled-color: #515151;\n",
       "  --xr-background-color: #111111;\n",
       "  --xr-background-color-row-even: #111111;\n",
       "  --xr-background-color-row-odd: #313131;\n",
       "}\n",
       "\n",
       ".xr-wrap {\n",
       "  display: block !important;\n",
       "  min-width: 300px;\n",
       "  max-width: 700px;\n",
       "}\n",
       "\n",
       ".xr-text-repr-fallback {\n",
       "  /* fallback to plain text repr when CSS is not injected (untrusted notebook) */\n",
       "  display: none;\n",
       "}\n",
       "\n",
       ".xr-header {\n",
       "  padding-top: 6px;\n",
       "  padding-bottom: 6px;\n",
       "  margin-bottom: 4px;\n",
       "  border-bottom: solid 1px var(--xr-border-color);\n",
       "}\n",
       "\n",
       ".xr-header > div,\n",
       ".xr-header > ul {\n",
       "  display: inline;\n",
       "  margin-top: 0;\n",
       "  margin-bottom: 0;\n",
       "}\n",
       "\n",
       ".xr-obj-type,\n",
       ".xr-array-name {\n",
       "  margin-left: 2px;\n",
       "  margin-right: 10px;\n",
       "}\n",
       "\n",
       ".xr-obj-type {\n",
       "  color: var(--xr-font-color2);\n",
       "}\n",
       "\n",
       ".xr-sections {\n",
       "  padding-left: 0 !important;\n",
       "  display: grid;\n",
       "  grid-template-columns: 150px auto auto 1fr 0 20px 0 20px;\n",
       "}\n",
       "\n",
       ".xr-section-item {\n",
       "  display: contents;\n",
       "}\n",
       "\n",
       ".xr-section-item input {\n",
       "  display: inline-block;\n",
       "  opacity: 0;\n",
       "  height: 0;\n",
       "}\n",
       "\n",
       ".xr-section-item input + label {\n",
       "  color: var(--xr-disabled-color);\n",
       "}\n",
       "\n",
       ".xr-section-item input:enabled + label {\n",
       "  cursor: pointer;\n",
       "  color: var(--xr-font-color2);\n",
       "}\n",
       "\n",
       ".xr-section-item input:focus + label {\n",
       "  border: 2px solid var(--xr-font-color0);\n",
       "}\n",
       "\n",
       ".xr-section-item input:enabled + label:hover {\n",
       "  color: var(--xr-font-color0);\n",
       "}\n",
       "\n",
       ".xr-section-summary {\n",
       "  grid-column: 1;\n",
       "  color: var(--xr-font-color2);\n",
       "  font-weight: 500;\n",
       "}\n",
       "\n",
       ".xr-section-summary > span {\n",
       "  display: inline-block;\n",
       "  padding-left: 0.5em;\n",
       "}\n",
       "\n",
       ".xr-section-summary-in:disabled + label {\n",
       "  color: var(--xr-font-color2);\n",
       "}\n",
       "\n",
       ".xr-section-summary-in + label:before {\n",
       "  display: inline-block;\n",
       "  content: \"►\";\n",
       "  font-size: 11px;\n",
       "  width: 15px;\n",
       "  text-align: center;\n",
       "}\n",
       "\n",
       ".xr-section-summary-in:disabled + label:before {\n",
       "  color: var(--xr-disabled-color);\n",
       "}\n",
       "\n",
       ".xr-section-summary-in:checked + label:before {\n",
       "  content: \"▼\";\n",
       "}\n",
       "\n",
       ".xr-section-summary-in:checked + label > span {\n",
       "  display: none;\n",
       "}\n",
       "\n",
       ".xr-section-summary,\n",
       ".xr-section-inline-details {\n",
       "  padding-top: 4px;\n",
       "  padding-bottom: 4px;\n",
       "}\n",
       "\n",
       ".xr-section-inline-details {\n",
       "  grid-column: 2 / -1;\n",
       "}\n",
       "\n",
       ".xr-section-details {\n",
       "  display: none;\n",
       "  grid-column: 1 / -1;\n",
       "  margin-bottom: 5px;\n",
       "}\n",
       "\n",
       ".xr-section-summary-in:checked ~ .xr-section-details {\n",
       "  display: contents;\n",
       "}\n",
       "\n",
       ".xr-array-wrap {\n",
       "  grid-column: 1 / -1;\n",
       "  display: grid;\n",
       "  grid-template-columns: 20px auto;\n",
       "}\n",
       "\n",
       ".xr-array-wrap > label {\n",
       "  grid-column: 1;\n",
       "  vertical-align: top;\n",
       "}\n",
       "\n",
       ".xr-preview {\n",
       "  color: var(--xr-font-color3);\n",
       "}\n",
       "\n",
       ".xr-array-preview,\n",
       ".xr-array-data {\n",
       "  padding: 0 5px !important;\n",
       "  grid-column: 2;\n",
       "}\n",
       "\n",
       ".xr-array-data,\n",
       ".xr-array-in:checked ~ .xr-array-preview {\n",
       "  display: none;\n",
       "}\n",
       "\n",
       ".xr-array-in:checked ~ .xr-array-data,\n",
       ".xr-array-preview {\n",
       "  display: inline-block;\n",
       "}\n",
       "\n",
       ".xr-dim-list {\n",
       "  display: inline-block !important;\n",
       "  list-style: none;\n",
       "  padding: 0 !important;\n",
       "  margin: 0;\n",
       "}\n",
       "\n",
       ".xr-dim-list li {\n",
       "  display: inline-block;\n",
       "  padding: 0;\n",
       "  margin: 0;\n",
       "}\n",
       "\n",
       ".xr-dim-list:before {\n",
       "  content: \"(\";\n",
       "}\n",
       "\n",
       ".xr-dim-list:after {\n",
       "  content: \")\";\n",
       "}\n",
       "\n",
       ".xr-dim-list li:not(:last-child):after {\n",
       "  content: \",\";\n",
       "  padding-right: 5px;\n",
       "}\n",
       "\n",
       ".xr-has-index {\n",
       "  font-weight: bold;\n",
       "}\n",
       "\n",
       ".xr-var-list,\n",
       ".xr-var-item {\n",
       "  display: contents;\n",
       "}\n",
       "\n",
       ".xr-var-item > div,\n",
       ".xr-var-item label,\n",
       ".xr-var-item > .xr-var-name span {\n",
       "  background-color: var(--xr-background-color-row-even);\n",
       "  margin-bottom: 0;\n",
       "}\n",
       "\n",
       ".xr-var-item > .xr-var-name:hover span {\n",
       "  padding-right: 5px;\n",
       "}\n",
       "\n",
       ".xr-var-list > li:nth-child(odd) > div,\n",
       ".xr-var-list > li:nth-child(odd) > label,\n",
       ".xr-var-list > li:nth-child(odd) > .xr-var-name span {\n",
       "  background-color: var(--xr-background-color-row-odd);\n",
       "}\n",
       "\n",
       ".xr-var-name {\n",
       "  grid-column: 1;\n",
       "}\n",
       "\n",
       ".xr-var-dims {\n",
       "  grid-column: 2;\n",
       "}\n",
       "\n",
       ".xr-var-dtype {\n",
       "  grid-column: 3;\n",
       "  text-align: right;\n",
       "  color: var(--xr-font-color2);\n",
       "}\n",
       "\n",
       ".xr-var-preview {\n",
       "  grid-column: 4;\n",
       "}\n",
       "\n",
       ".xr-index-preview {\n",
       "  grid-column: 2 / 5;\n",
       "  color: var(--xr-font-color2);\n",
       "}\n",
       "\n",
       ".xr-var-name,\n",
       ".xr-var-dims,\n",
       ".xr-var-dtype,\n",
       ".xr-preview,\n",
       ".xr-attrs dt {\n",
       "  white-space: nowrap;\n",
       "  overflow: hidden;\n",
       "  text-overflow: ellipsis;\n",
       "  padding-right: 10px;\n",
       "}\n",
       "\n",
       ".xr-var-name:hover,\n",
       ".xr-var-dims:hover,\n",
       ".xr-var-dtype:hover,\n",
       ".xr-attrs dt:hover {\n",
       "  overflow: visible;\n",
       "  width: auto;\n",
       "  z-index: 1;\n",
       "}\n",
       "\n",
       ".xr-var-attrs,\n",
       ".xr-var-data,\n",
       ".xr-index-data {\n",
       "  display: none;\n",
       "  background-color: var(--xr-background-color) !important;\n",
       "  padding-bottom: 5px !important;\n",
       "}\n",
       "\n",
       ".xr-var-attrs-in:checked ~ .xr-var-attrs,\n",
       ".xr-var-data-in:checked ~ .xr-var-data,\n",
       ".xr-index-data-in:checked ~ .xr-index-data {\n",
       "  display: block;\n",
       "}\n",
       "\n",
       ".xr-var-data > table {\n",
       "  float: right;\n",
       "}\n",
       "\n",
       ".xr-var-name span,\n",
       ".xr-var-data,\n",
       ".xr-index-name div,\n",
       ".xr-index-data,\n",
       ".xr-attrs {\n",
       "  padding-left: 25px !important;\n",
       "}\n",
       "\n",
       ".xr-attrs,\n",
       ".xr-var-attrs,\n",
       ".xr-var-data,\n",
       ".xr-index-data {\n",
       "  grid-column: 1 / -1;\n",
       "}\n",
       "\n",
       "dl.xr-attrs {\n",
       "  padding: 0;\n",
       "  margin: 0;\n",
       "  display: grid;\n",
       "  grid-template-columns: 125px auto;\n",
       "}\n",
       "\n",
       ".xr-attrs dt,\n",
       ".xr-attrs dd {\n",
       "  padding: 0;\n",
       "  margin: 0;\n",
       "  float: left;\n",
       "  padding-right: 10px;\n",
       "  width: auto;\n",
       "}\n",
       "\n",
       ".xr-attrs dt {\n",
       "  font-weight: normal;\n",
       "  grid-column: 1;\n",
       "}\n",
       "\n",
       ".xr-attrs dt:hover span {\n",
       "  display: inline-block;\n",
       "  background: var(--xr-background-color);\n",
       "  padding-right: 10px;\n",
       "}\n",
       "\n",
       ".xr-attrs dd {\n",
       "  grid-column: 2;\n",
       "  white-space: pre-wrap;\n",
       "  word-break: break-all;\n",
       "}\n",
       "\n",
       ".xr-icon-database,\n",
       ".xr-icon-file-text2,\n",
       ".xr-no-icon {\n",
       "  display: inline-block;\n",
       "  vertical-align: middle;\n",
       "  width: 1em;\n",
       "  height: 1.5em !important;\n",
       "  stroke-width: 0;\n",
       "  stroke: currentColor;\n",
       "  fill: currentColor;\n",
       "}\n",
       "</style><pre class='xr-text-repr-fallback'>&lt;xarray.DataArray &#x27;image&#x27; (t: 1, c: 3, z: 312, y: 2042, x: 2042)&gt; Size: 8GB\n",
       "dask.array&lt;from-zarr, shape=(1, 3, 312, 2042, 2042), dtype=uint16, chunksize=(1, 1, 256, 256, 256), chunktype=numpy.ndarray&gt;\n",
       "Coordinates:\n",
       "  * t        (t) int64 8B 0\n",
       "  * z        (z) float64 2kB 0.0 0.4 0.8 1.2 1.6 ... 123.2 123.6 124.0 124.4\n",
       "  * y        (y) float64 16kB 0.0 0.04708 0.09416 0.1412 ... 96.0 96.05 96.09\n",
       "  * x        (x) float64 16kB 0.0 0.04708 0.09416 0.1412 ... 96.0 96.05 96.09\n",
       "  * c        (c) &lt;U1 12B &#x27;0&#x27; &#x27;1&#x27; &#x27;2&#x27;\n",
       "Attributes:\n",
       "    transforms:  {&#x27;affine_metadata&#x27;: &lt;xarray.DataArray (t: 1, x_in: 4, x_out:...</pre><div class='xr-wrap' style='display:none'><div class='xr-header'><div class='xr-obj-type'>xarray.DataArray</div><div class='xr-array-name'>'image'</div><ul class='xr-dim-list'><li><span class='xr-has-index'>t</span>: 1</li><li><span class='xr-has-index'>c</span>: 3</li><li><span class='xr-has-index'>z</span>: 312</li><li><span class='xr-has-index'>y</span>: 2042</li><li><span class='xr-has-index'>x</span>: 2042</li></ul></div><ul class='xr-sections'><li class='xr-section-item'><div class='xr-array-wrap'><input id='section-a808014e-c2b8-45d6-b7e4-73e8ed0684bf' class='xr-array-in' type='checkbox' checked><label for='section-a808014e-c2b8-45d6-b7e4-73e8ed0684bf' title='Show/hide data repr'><svg class='icon xr-icon-database'><use xlink:href='#icon-database'></use></svg></label><div class='xr-array-preview xr-preview'><span>dask.array&lt;chunksize=(1, 1, 256, 256, 256), meta=np.ndarray&gt;</span></div><div class='xr-array-data'><table>\n",
       "    <tr>\n",
       "        <td>\n",
       "            <table style=\"border-collapse: collapse;\">\n",
       "                <thead>\n",
       "                    <tr>\n",
       "                        <td> </td>\n",
       "                        <th> Array </th>\n",
       "                        <th> Chunk </th>\n",
       "                    </tr>\n",
       "                </thead>\n",
       "                <tbody>\n",
       "                    \n",
       "                    <tr>\n",
       "                        <th> Bytes </th>\n",
       "                        <td> 7.27 GiB </td>\n",
       "                        <td> 32.00 MiB </td>\n",
       "                    </tr>\n",
       "                    \n",
       "                    <tr>\n",
       "                        <th> Shape </th>\n",
       "                        <td> (1, 3, 312, 2042, 2042) </td>\n",
       "                        <td> (1, 1, 256, 256, 256) </td>\n",
       "                    </tr>\n",
       "                    <tr>\n",
       "                        <th> Dask graph </th>\n",
       "                        <td colspan=\"2\"> 384 chunks in 2 graph layers </td>\n",
       "                    </tr>\n",
       "                    <tr>\n",
       "                        <th> Data type </th>\n",
       "                        <td colspan=\"2\"> uint16 numpy.ndarray </td>\n",
       "                    </tr>\n",
       "                </tbody>\n",
       "            </table>\n",
       "        </td>\n",
       "        <td>\n",
       "        <svg width=\"383\" height=\"193\" style=\"stroke:rgb(0,0,0);stroke-width:1\" >\n",
       "\n",
       "  <!-- Horizontal lines -->\n",
       "  <line x1=\"0\" y1=\"0\" x2=\"25\" y2=\"0\" style=\"stroke-width:2\" />\n",
       "  <line x1=\"0\" y1=\"25\" x2=\"25\" y2=\"25\" style=\"stroke-width:2\" />\n",
       "\n",
       "  <!-- Vertical lines -->\n",
       "  <line x1=\"0\" y1=\"0\" x2=\"0\" y2=\"25\" style=\"stroke-width:2\" />\n",
       "  <line x1=\"8\" y1=\"0\" x2=\"8\" y2=\"25\" />\n",
       "  <line x1=\"16\" y1=\"0\" x2=\"16\" y2=\"25\" />\n",
       "  <line x1=\"25\" y1=\"0\" x2=\"25\" y2=\"25\" style=\"stroke-width:2\" />\n",
       "\n",
       "  <!-- Colored Rectangle -->\n",
       "  <polygon points=\"0.0,0.0 25.412616514582485,0.0 25.412616514582485,25.412616514582485 0.0,25.412616514582485\" style=\"fill:#ECB172A0;stroke-width:0\"/>\n",
       "\n",
       "  <!-- Text -->\n",
       "  <text x=\"12.706308\" y=\"45.412617\" font-size=\"1.0rem\" font-weight=\"100\" text-anchor=\"middle\" >3</text>\n",
       "  <text x=\"45.412617\" y=\"12.706308\" font-size=\"1.0rem\" font-weight=\"100\" text-anchor=\"middle\" transform=\"rotate(0,45.412617,12.706308)\">1</text>\n",
       "\n",
       "\n",
       "  <!-- Horizontal lines -->\n",
       "  <line x1=\"95\" y1=\"0\" x2=\"118\" y2=\"23\" style=\"stroke-width:2\" />\n",
       "  <line x1=\"95\" y1=\"15\" x2=\"118\" y2=\"39\" />\n",
       "  <line x1=\"95\" y1=\"30\" x2=\"118\" y2=\"54\" />\n",
       "  <line x1=\"95\" y1=\"45\" x2=\"118\" y2=\"69\" />\n",
       "  <line x1=\"95\" y1=\"60\" x2=\"118\" y2=\"84\" />\n",
       "  <line x1=\"95\" y1=\"75\" x2=\"118\" y2=\"99\" />\n",
       "  <line x1=\"95\" y1=\"90\" x2=\"118\" y2=\"114\" />\n",
       "  <line x1=\"95\" y1=\"105\" x2=\"118\" y2=\"129\" />\n",
       "  <line x1=\"95\" y1=\"120\" x2=\"118\" y2=\"143\" style=\"stroke-width:2\" />\n",
       "\n",
       "  <!-- Vertical lines -->\n",
       "  <line x1=\"95\" y1=\"0\" x2=\"95\" y2=\"120\" style=\"stroke-width:2\" />\n",
       "  <line x1=\"114\" y1=\"19\" x2=\"114\" y2=\"139\" />\n",
       "  <line x1=\"118\" y1=\"23\" x2=\"118\" y2=\"143\" style=\"stroke-width:2\" />\n",
       "\n",
       "  <!-- Colored Rectangle -->\n",
       "  <polygon points=\"95.0,0.0 118.99708881105354,23.997088811053548 118.99708881105354,143.99708881105354 95.0,120.0\" style=\"fill:#ECB172A0;stroke-width:0\"/>\n",
       "\n",
       "  <!-- Horizontal lines -->\n",
       "  <line x1=\"95\" y1=\"0\" x2=\"215\" y2=\"0\" style=\"stroke-width:2\" />\n",
       "  <line x1=\"114\" y1=\"19\" x2=\"234\" y2=\"19\" />\n",
       "  <line x1=\"118\" y1=\"23\" x2=\"238\" y2=\"23\" style=\"stroke-width:2\" />\n",
       "\n",
       "  <!-- Vertical lines -->\n",
       "  <line x1=\"95\" y1=\"0\" x2=\"118\" y2=\"23\" style=\"stroke-width:2\" />\n",
       "  <line x1=\"110\" y1=\"0\" x2=\"134\" y2=\"23\" />\n",
       "  <line x1=\"125\" y1=\"0\" x2=\"149\" y2=\"23\" />\n",
       "  <line x1=\"140\" y1=\"0\" x2=\"164\" y2=\"23\" />\n",
       "  <line x1=\"155\" y1=\"0\" x2=\"179\" y2=\"23\" />\n",
       "  <line x1=\"170\" y1=\"0\" x2=\"194\" y2=\"23\" />\n",
       "  <line x1=\"185\" y1=\"0\" x2=\"209\" y2=\"23\" />\n",
       "  <line x1=\"200\" y1=\"0\" x2=\"224\" y2=\"23\" />\n",
       "  <line x1=\"215\" y1=\"0\" x2=\"238\" y2=\"23\" style=\"stroke-width:2\" />\n",
       "\n",
       "  <!-- Colored Rectangle -->\n",
       "  <polygon points=\"95.0,0.0 215.0,0.0 238.99708881105354,23.997088811053548 118.99708881105354,23.997088811053548\" style=\"fill:#ECB172A0;stroke-width:0\"/>\n",
       "\n",
       "  <!-- Horizontal lines -->\n",
       "  <line x1=\"118\" y1=\"23\" x2=\"238\" y2=\"23\" style=\"stroke-width:2\" />\n",
       "  <line x1=\"118\" y1=\"39\" x2=\"238\" y2=\"39\" />\n",
       "  <line x1=\"118\" y1=\"54\" x2=\"238\" y2=\"54\" />\n",
       "  <line x1=\"118\" y1=\"69\" x2=\"238\" y2=\"69\" />\n",
       "  <line x1=\"118\" y1=\"84\" x2=\"238\" y2=\"84\" />\n",
       "  <line x1=\"118\" y1=\"99\" x2=\"238\" y2=\"99\" />\n",
       "  <line x1=\"118\" y1=\"114\" x2=\"238\" y2=\"114\" />\n",
       "  <line x1=\"118\" y1=\"129\" x2=\"238\" y2=\"129\" />\n",
       "  <line x1=\"118\" y1=\"143\" x2=\"238\" y2=\"143\" style=\"stroke-width:2\" />\n",
       "\n",
       "  <!-- Vertical lines -->\n",
       "  <line x1=\"118\" y1=\"23\" x2=\"118\" y2=\"143\" style=\"stroke-width:2\" />\n",
       "  <line x1=\"134\" y1=\"23\" x2=\"134\" y2=\"143\" />\n",
       "  <line x1=\"149\" y1=\"23\" x2=\"149\" y2=\"143\" />\n",
       "  <line x1=\"164\" y1=\"23\" x2=\"164\" y2=\"143\" />\n",
       "  <line x1=\"179\" y1=\"23\" x2=\"179\" y2=\"143\" />\n",
       "  <line x1=\"194\" y1=\"23\" x2=\"194\" y2=\"143\" />\n",
       "  <line x1=\"209\" y1=\"23\" x2=\"209\" y2=\"143\" />\n",
       "  <line x1=\"224\" y1=\"23\" x2=\"224\" y2=\"143\" />\n",
       "  <line x1=\"238\" y1=\"23\" x2=\"238\" y2=\"143\" style=\"stroke-width:2\" />\n",
       "\n",
       "  <!-- Colored Rectangle -->\n",
       "  <polygon points=\"118.99708881105354,23.997088811053548 238.99708881105354,23.997088811053548 238.99708881105354,143.99708881105354 118.99708881105354,143.99708881105354\" style=\"fill:#ECB172A0;stroke-width:0\"/>\n",
       "\n",
       "  <!-- Text -->\n",
       "  <text x=\"178.997089\" y=\"163.997089\" font-size=\"1.0rem\" font-weight=\"100\" text-anchor=\"middle\" >2042</text>\n",
       "  <text x=\"258.997089\" y=\"83.997089\" font-size=\"1.0rem\" font-weight=\"100\" text-anchor=\"middle\" transform=\"rotate(-90,258.997089,83.997089)\">2042</text>\n",
       "  <text x=\"96.998544\" y=\"151.998544\" font-size=\"1.0rem\" font-weight=\"100\" text-anchor=\"middle\" transform=\"rotate(45,96.998544,151.998544)\">312</text>\n",
       "</svg>\n",
       "        </td>\n",
       "    </tr>\n",
       "</table></div></div></li><li class='xr-section-item'><input id='section-a00ae2b0-897c-4a13-93d8-94758328f56d' class='xr-section-summary-in' type='checkbox'  checked><label for='section-a00ae2b0-897c-4a13-93d8-94758328f56d' class='xr-section-summary' >Coordinates: <span>(5)</span></label><div class='xr-section-inline-details'></div><div class='xr-section-details'><ul class='xr-var-list'><li class='xr-var-item'><div class='xr-var-name'><span class='xr-has-index'>t</span></div><div class='xr-var-dims'>(t)</div><div class='xr-var-dtype'>int64</div><div class='xr-var-preview xr-preview'>0</div><input id='attrs-2aea6421-9b10-4866-bfc8-bf99e75eeef4' class='xr-var-attrs-in' type='checkbox' ><label for='attrs-2aea6421-9b10-4866-bfc8-bf99e75eeef4' title='Show/Hide attributes'><svg class='icon xr-icon-file-text2'><use xlink:href='#icon-file-text2'></use></svg></label><input id='data-53531979-591f-4317-abb2-ffdafc6330b2' class='xr-var-data-in' type='checkbox'><label for='data-53531979-591f-4317-abb2-ffdafc6330b2' title='Show/Hide data repr'><svg class='icon xr-icon-database'><use xlink:href='#icon-database'></use></svg></label><div class='xr-var-attrs'><dl class='xr-attrs'><dt><span>long_name :</span></dt><dd>t</dd><dt><span>units :</span></dt><dd></dd></dl></div><div class='xr-var-data'><pre>array([0])</pre></div></li><li class='xr-var-item'><div class='xr-var-name'><span class='xr-has-index'>z</span></div><div class='xr-var-dims'>(z)</div><div class='xr-var-dtype'>float64</div><div class='xr-var-preview xr-preview'>0.0 0.4 0.8 ... 123.6 124.0 124.4</div><input id='attrs-6073214a-4ba2-420a-b2bd-2560e7241a94' class='xr-var-attrs-in' type='checkbox' ><label for='attrs-6073214a-4ba2-420a-b2bd-2560e7241a94' title='Show/Hide attributes'><svg class='icon xr-icon-file-text2'><use xlink:href='#icon-file-text2'></use></svg></label><input id='data-a82be349-50eb-4804-bc75-dd5131aec324' class='xr-var-data-in' type='checkbox'><label for='data-a82be349-50eb-4804-bc75-dd5131aec324' title='Show/Hide data repr'><svg class='icon xr-icon-database'><use xlink:href='#icon-database'></use></svg></label><div class='xr-var-attrs'><dl class='xr-attrs'><dt><span>long_name :</span></dt><dd>z</dd><dt><span>units :</span></dt><dd></dd></dl></div><div class='xr-var-data'><pre>array([  0. ,   0.4,   0.8, ..., 123.6, 124. , 124.4], shape=(312,))</pre></div></li><li class='xr-var-item'><div class='xr-var-name'><span class='xr-has-index'>y</span></div><div class='xr-var-dims'>(y)</div><div class='xr-var-dtype'>float64</div><div class='xr-var-preview xr-preview'>0.0 0.04708 0.09416 ... 96.05 96.09</div><input id='attrs-93f3cac2-bd2b-415e-bfac-e69c40a2383d' class='xr-var-attrs-in' type='checkbox' ><label for='attrs-93f3cac2-bd2b-415e-bfac-e69c40a2383d' title='Show/Hide attributes'><svg class='icon xr-icon-file-text2'><use xlink:href='#icon-file-text2'></use></svg></label><input id='data-29a3048d-f220-4fb3-8f01-87e745ce96e3' class='xr-var-data-in' type='checkbox'><label for='data-29a3048d-f220-4fb3-8f01-87e745ce96e3' title='Show/Hide data repr'><svg class='icon xr-icon-database'><use xlink:href='#icon-database'></use></svg></label><div class='xr-var-attrs'><dl class='xr-attrs'><dt><span>long_name :</span></dt><dd>y</dd><dt><span>units :</span></dt><dd></dd></dl></div><div class='xr-var-data'><pre>array([0.000000e+00, 4.708196e-02, 9.416393e-02, ..., 9.600013e+01,\n",
       "       9.604721e+01, 9.609429e+01], shape=(2042,))</pre></div></li><li class='xr-var-item'><div class='xr-var-name'><span class='xr-has-index'>x</span></div><div class='xr-var-dims'>(x)</div><div class='xr-var-dtype'>float64</div><div class='xr-var-preview xr-preview'>0.0 0.04708 0.09416 ... 96.05 96.09</div><input id='attrs-f729c85e-ad60-499b-a00f-1f5185b66d03' class='xr-var-attrs-in' type='checkbox' ><label for='attrs-f729c85e-ad60-499b-a00f-1f5185b66d03' title='Show/Hide attributes'><svg class='icon xr-icon-file-text2'><use xlink:href='#icon-file-text2'></use></svg></label><input id='data-68f1fe50-9f7f-4516-8571-487046df056f' class='xr-var-data-in' type='checkbox'><label for='data-68f1fe50-9f7f-4516-8571-487046df056f' title='Show/Hide data repr'><svg class='icon xr-icon-database'><use xlink:href='#icon-database'></use></svg></label><div class='xr-var-attrs'><dl class='xr-attrs'><dt><span>long_name :</span></dt><dd>x</dd><dt><span>units :</span></dt><dd></dd></dl></div><div class='xr-var-data'><pre>array([0.000000e+00, 4.708196e-02, 9.416393e-02, ..., 9.600013e+01,\n",
       "       9.604721e+01, 9.609429e+01], shape=(2042,))</pre></div></li><li class='xr-var-item'><div class='xr-var-name'><span class='xr-has-index'>c</span></div><div class='xr-var-dims'>(c)</div><div class='xr-var-dtype'>&lt;U1</div><div class='xr-var-preview xr-preview'>&#x27;0&#x27; &#x27;1&#x27; &#x27;2&#x27;</div><input id='attrs-23e4e7e9-2d8d-4b60-a1a6-7518fa1f1ec8' class='xr-var-attrs-in' type='checkbox' disabled><label for='attrs-23e4e7e9-2d8d-4b60-a1a6-7518fa1f1ec8' title='Show/Hide attributes'><svg class='icon xr-icon-file-text2'><use xlink:href='#icon-file-text2'></use></svg></label><input id='data-0e5e9ead-30b6-460a-beab-5b39872badd9' class='xr-var-data-in' type='checkbox'><label for='data-0e5e9ead-30b6-460a-beab-5b39872badd9' title='Show/Hide data repr'><svg class='icon xr-icon-database'><use xlink:href='#icon-database'></use></svg></label><div class='xr-var-attrs'><dl class='xr-attrs'></dl></div><div class='xr-var-data'><pre>array([&#x27;0&#x27;, &#x27;1&#x27;, &#x27;2&#x27;], dtype=&#x27;&lt;U1&#x27;)</pre></div></li></ul></div></li><li class='xr-section-item'><input id='section-3c9702ee-5797-4d50-96ed-ff08345b479b' class='xr-section-summary-in' type='checkbox'  ><label for='section-3c9702ee-5797-4d50-96ed-ff08345b479b' class='xr-section-summary' >Indexes: <span>(5)</span></label><div class='xr-section-inline-details'></div><div class='xr-section-details'><ul class='xr-var-list'><li class='xr-var-item'><div class='xr-index-name'><div>t</div></div><div class='xr-index-preview'>PandasIndex</div><input type='checkbox' disabled/><label></label><input id='index-94027ff3-d99e-49d0-8c1b-da28afe5e079' class='xr-index-data-in' type='checkbox'/><label for='index-94027ff3-d99e-49d0-8c1b-da28afe5e079' title='Show/Hide index repr'><svg class='icon xr-icon-database'><use xlink:href='#icon-database'></use></svg></label><div class='xr-index-data'><pre>PandasIndex(Index([0], dtype=&#x27;int64&#x27;, name=&#x27;t&#x27;))</pre></div></li><li class='xr-var-item'><div class='xr-index-name'><div>z</div></div><div class='xr-index-preview'>PandasIndex</div><input type='checkbox' disabled/><label></label><input id='index-3424316b-513c-4517-9eaf-1a4bbe1cbe57' class='xr-index-data-in' type='checkbox'/><label for='index-3424316b-513c-4517-9eaf-1a4bbe1cbe57' title='Show/Hide index repr'><svg class='icon xr-icon-database'><use xlink:href='#icon-database'></use></svg></label><div class='xr-index-data'><pre>PandasIndex(Index([               0.0,                0.4,                0.8,\n",
       "       1.2000000000000002,                1.6,                2.0,\n",
       "       2.4000000000000004, 2.8000000000000003,                3.2,\n",
       "                      3.6,\n",
       "       ...\n",
       "       120.80000000000001,              121.2, 121.60000000000001,\n",
       "                    122.0,              122.4, 122.80000000000001,\n",
       "                    123.2, 123.60000000000001,              124.0,\n",
       "                    124.4],\n",
       "      dtype=&#x27;float64&#x27;, name=&#x27;z&#x27;, length=312))</pre></div></li><li class='xr-var-item'><div class='xr-index-name'><div>y</div></div><div class='xr-index-preview'>PandasIndex</div><input type='checkbox' disabled/><label></label><input id='index-b4f174d7-11f1-4253-9fbe-a131099d219f' class='xr-index-data-in' type='checkbox'/><label for='index-b4f174d7-11f1-4253-9fbe-a131099d219f' title='Show/Hide index repr'><svg class='icon xr-icon-database'><use xlink:href='#icon-database'></use></svg></label><div class='xr-index-data'><pre>PandasIndex(Index([                0.0,  0.0470819646661932,  0.0941639293323864,\n",
       "       0.14124589399857962,  0.1883278586647728,   0.235409823330966,\n",
       "       0.28249178799715924,  0.3295737526633524,  0.3766557173295456,\n",
       "        0.4237376819957388,\n",
       "       ...\n",
       "         95.67055220170458,   95.71763416637079,   95.76471613103698,\n",
       "         95.81179809570317,   95.85888006036936,   95.90596202503555,\n",
       "         95.95304398970174,   96.00012595436795,   96.04720791903414,\n",
       "         96.09428988370033],\n",
       "      dtype=&#x27;float64&#x27;, name=&#x27;y&#x27;, length=2042))</pre></div></li><li class='xr-var-item'><div class='xr-index-name'><div>x</div></div><div class='xr-index-preview'>PandasIndex</div><input type='checkbox' disabled/><label></label><input id='index-d8603ad0-7de9-4c90-80ea-75742f5033cf' class='xr-index-data-in' type='checkbox'/><label for='index-d8603ad0-7de9-4c90-80ea-75742f5033cf' title='Show/Hide index repr'><svg class='icon xr-icon-database'><use xlink:href='#icon-database'></use></svg></label><div class='xr-index-data'><pre>PandasIndex(Index([                0.0,  0.0470819646661932,  0.0941639293323864,\n",
       "       0.14124589399857962,  0.1883278586647728,   0.235409823330966,\n",
       "       0.28249178799715924,  0.3295737526633524,  0.3766557173295456,\n",
       "        0.4237376819957388,\n",
       "       ...\n",
       "         95.67055220170458,   95.71763416637079,   95.76471613103698,\n",
       "         95.81179809570317,   95.85888006036936,   95.90596202503555,\n",
       "         95.95304398970174,   96.00012595436795,   96.04720791903414,\n",
       "         96.09428988370033],\n",
       "      dtype=&#x27;float64&#x27;, name=&#x27;x&#x27;, length=2042))</pre></div></li><li class='xr-var-item'><div class='xr-index-name'><div>c</div></div><div class='xr-index-preview'>PandasIndex</div><input type='checkbox' disabled/><label></label><input id='index-4afae110-2e84-4ca4-acd0-a3192351c33a' class='xr-index-data-in' type='checkbox'/><label for='index-4afae110-2e84-4ca4-acd0-a3192351c33a' title='Show/Hide index repr'><svg class='icon xr-icon-database'><use xlink:href='#icon-database'></use></svg></label><div class='xr-index-data'><pre>PandasIndex(Index([&#x27;0&#x27;, &#x27;1&#x27;, &#x27;2&#x27;], dtype=&#x27;object&#x27;, name=&#x27;c&#x27;))</pre></div></li></ul></div></li><li class='xr-section-item'><input id='section-59550161-a57a-463b-9f9d-9b9fec7689c5' class='xr-section-summary-in' type='checkbox'  checked><label for='section-59550161-a57a-463b-9f9d-9b9fec7689c5' class='xr-section-summary' >Attributes: <span>(1)</span></label><div class='xr-section-inline-details'></div><div class='xr-section-details'><dl class='xr-attrs'><dt><span>transforms :</span></dt><dd>{&#x27;affine_metadata&#x27;: &lt;xarray.DataArray (t: 1, x_in: 4, x_out: 4)&gt; Size: 128B\n",
       "array([[[1., 0., 0., 0.],\n",
       "        [0., 1., 0., 0.],\n",
       "        [0., 0., 1., 0.],\n",
       "        [0., 0., 0., 1.]]])\n",
       "Coordinates:\n",
       "  * x_in     (x_in) &lt;U1 16B &#x27;z&#x27; &#x27;y&#x27; &#x27;x&#x27; &#x27;1&#x27;\n",
       "  * x_out    (x_out) &lt;U1 16B &#x27;z&#x27; &#x27;y&#x27; &#x27;x&#x27; &#x27;1&#x27;\n",
       "  * t        (t) int64 8B 0}</dd></dl></div></li></ul></div></div>"
      ],
      "text/plain": [
       "<xarray.DataArray 'image' (t: 1, c: 3, z: 312, y: 2042, x: 2042)> Size: 8GB\n",
       "dask.array<from-zarr, shape=(1, 3, 312, 2042, 2042), dtype=uint16, chunksize=(1, 1, 256, 256, 256), chunktype=numpy.ndarray>\n",
       "Coordinates:\n",
       "  * t        (t) int64 8B 0\n",
       "  * z        (z) float64 2kB 0.0 0.4 0.8 1.2 1.6 ... 123.2 123.6 124.0 124.4\n",
       "  * y        (y) float64 16kB 0.0 0.04708 0.09416 0.1412 ... 96.0 96.05 96.09\n",
       "  * x        (x) float64 16kB 0.0 0.04708 0.09416 0.1412 ... 96.0 96.05 96.09\n",
       "  * c        (c) <U1 12B '0' '1' '2'\n",
       "Attributes:\n",
       "    transforms:  {'affine_metadata': <xarray.DataArray (t: 1, x_in: 4, x_out:..."
      ]
     },
     "execution_count": 80,
     "metadata": {},
     "output_type": "execute_result"
    }
   ],
   "source": [
    "sim"
   ]
  },
  {
   "cell_type": "code",
   "execution_count": 81,
   "metadata": {},
   "outputs": [
    {
     "data": {
      "text/plain": [
       "2"
      ]
     },
     "execution_count": 81,
     "metadata": {},
     "output_type": "execute_result"
    }
   ],
   "source": [
    "len(msims)"
   ]
  },
  {
   "cell_type": "code",
   "execution_count": 82,
   "metadata": {},
   "outputs": [
    {
     "data": {
      "image/png": "[encoded data removed]",
      "text/plain": [
       "<Figure size 640x480 with 1 Axes>"
      ]
     },
     "metadata": {},
     "output_type": "display_data"
    }
   ],
   "source": [
    "# visualize tile positions/configuration\n",
    "\n",
    "# uncomment the following line for 3D interactivity with the plot (requires ipympl to be installed)\n",
    "# % matplotlib widget\n",
    "\n",
    "from multiview_stitcher import vis_utils\n",
    "\n",
    "fig, ax = vis_utils.plot_positions(\n",
    "    msims,\n",
    "    use_positional_colors=True, # set to False for faster execution in case of more than 20 tiles/views\n",
    "    transform_key='affine_metadata'\n",
    "    )"
   ]
  },
  {
   "cell_type": "code",
   "execution_count": 75,
   "metadata": {},
   "outputs": [],
   "source": [
    "# Turn channel alignment on or off\n",
    "perform_channel_alignment = False\n",
    "\n",
    "# Channel alignment is performed using a single tile.\n",
    "# Choose here which tile (index) to use.\n",
    "channel_alignment_tile_index = 0\n",
    "\n",
    "curr_transform_key = 'affine_metadata'\n",
    "if perform_channel_alignment:\n",
    "    curr_transform_key = 'affine_metadata_ch_reg'\n",
    "\n",
    "    channels = msims[channel_alignment_tile_index]['scale0/image'].coords['c']\n",
    "\n",
    "    # select chosen tiles for registration\n",
    "    msims_ch_reg = [msi_utils.multiscale_sel_coords(msims[5], {'c': ch})\n",
    "                    for ch in channels]\n",
    "\n",
    "    with dask.diagnostics.ProgressBar():\n",
    "        params_c = registration.register(\n",
    "            msims_ch_reg,\n",
    "            registration_binning={'z': 2, 'y': 4, 'x': 4},\n",
    "            reg_channel_index=0,\n",
    "            transform_key='affine_metadata',\n",
    "            pre_registration_pruning_method=None,\n",
    "        )\n",
    "\n",
    "    # assign channel coordinates to obtained parameters\n",
    "    params_c = xr.concat(params_c, dim='c').assign_coords({'c': channels})\n",
    "\n",
    "    # set obtained parameters for all tiles\n",
    "    for msim in msims:\n",
    "        msi_utils.set_affine_transform(\n",
    "            msim, params_c, transform_key=curr_transform_key, base_transform_key='affine_metadata')"
   ]
  },
  {
   "cell_type": "code",
   "execution_count": 78,
   "metadata": {},
   "outputs": [
    {
     "name": "stdout",
     "output_type": "stream",
     "text": [
      "[                                        ] | 0% Completed | 570.27 us"
     ]
    },
    {
     "name": "stdout",
     "output_type": "stream",
     "text": [
      "[########################################] | 100% Completed | 1.96 ss\n"
     ]
    },
    {
     "name": "stderr",
     "output_type": "stream",
     "text": [
      "/home/slowpoke_/miniforge3/envs/pyczi/lib/python3.10/site-packages/multiview_stitcher/mv_graph.py:689: RuntimeWarning: invalid value encountered in divide\n",
      "  edge_vec = edge_vec / np.linalg.norm(edge_vec)\n"
     ]
    },
    {
     "ename": "NotEnoughOverlapError",
     "evalue": "Not enough overlap between views        for stitching.",
     "output_type": "error",
     "traceback": [
      "\u001b[0;31m---------------------------------------------------------------------------\u001b[0m",
      "\u001b[0;31mNotEnoughOverlapError\u001b[0m                     Traceback (most recent call last)",
      "Cell \u001b[0;32mIn[78], line 3\u001b[0m\n\u001b[1;32m      1\u001b[0m \u001b[38;5;28;01mwith\u001b[39;00m dask\u001b[38;5;241m.\u001b[39mdiagnostics\u001b[38;5;241m.\u001b[39mProgressBar():\n\u001b[0;32m----> 3\u001b[0m     params \u001b[38;5;241m=\u001b[39m \u001b[43mregistration\u001b[49m\u001b[38;5;241;43m.\u001b[39;49m\u001b[43mregister\u001b[49m\u001b[43m(\u001b[49m\n\u001b[1;32m      4\u001b[0m \u001b[43m        \u001b[49m\u001b[43mmsims\u001b[49m\u001b[43m,\u001b[49m\n\u001b[1;32m      5\u001b[0m \u001b[43m        \u001b[49m\u001b[43mregistration_binning\u001b[49m\u001b[38;5;241;43m=\u001b[39;49m\u001b[43m{\u001b[49m\u001b[38;5;124;43m'\u001b[39;49m\u001b[38;5;124;43mz\u001b[39;49m\u001b[38;5;124;43m'\u001b[39;49m\u001b[43m:\u001b[49m\u001b[43m \u001b[49m\u001b[38;5;241;43m1\u001b[39;49m\u001b[43m,\u001b[49m\u001b[43m \u001b[49m\u001b[38;5;124;43m'\u001b[39;49m\u001b[38;5;124;43my\u001b[39;49m\u001b[38;5;124;43m'\u001b[39;49m\u001b[43m:\u001b[49m\u001b[43m \u001b[49m\u001b[38;5;241;43m2\u001b[39;49m\u001b[43m,\u001b[49m\u001b[43m \u001b[49m\u001b[38;5;124;43m'\u001b[39;49m\u001b[38;5;124;43mx\u001b[39;49m\u001b[38;5;124;43m'\u001b[39;49m\u001b[43m:\u001b[49m\u001b[43m \u001b[49m\u001b[38;5;241;43m2\u001b[39;49m\u001b[43m}\u001b[49m\u001b[43m,\u001b[49m\n\u001b[1;32m      6\u001b[0m \u001b[43m        \u001b[49m\u001b[43mreg_channel_index\u001b[49m\u001b[38;5;241;43m=\u001b[39;49m\u001b[38;5;241;43m0\u001b[39;49m\u001b[43m,\u001b[49m\n\u001b[1;32m      7\u001b[0m \u001b[43m        \u001b[49m\u001b[43mtransform_key\u001b[49m\u001b[38;5;241;43m=\u001b[39;49m\u001b[43mcurr_transform_key\u001b[49m\u001b[43m,\u001b[49m\n\u001b[1;32m      8\u001b[0m \u001b[43m        \u001b[49m\u001b[43mnew_transform_key\u001b[49m\u001b[38;5;241;43m=\u001b[39;49m\u001b[38;5;124;43m'\u001b[39;49m\u001b[38;5;124;43maffine_registered\u001b[39;49m\u001b[38;5;124;43m'\u001b[39;49m\u001b[43m,\u001b[49m\n\u001b[1;32m      9\u001b[0m \u001b[43m        \u001b[49m\u001b[43mpre_registration_pruning_method\u001b[49m\u001b[38;5;241;43m=\u001b[39;49m\u001b[38;5;124;43m\"\u001b[39;49m\u001b[38;5;124;43mkeep_axis_aligned\u001b[39;49m\u001b[38;5;124;43m\"\u001b[39;49m\u001b[43m,\u001b[49m\u001b[43m \u001b[49m\u001b[38;5;66;43;03m# works well for tiles on a grid\u001b[39;49;00m\n\u001b[1;32m     10\u001b[0m \u001b[43m    \u001b[49m\u001b[43m)\u001b[49m\n",
      "File \u001b[0;32m~/miniforge3/envs/pyczi/lib/python3.10/site-packages/multiview_stitcher/registration.py:1870\u001b[0m, in \u001b[0;36mregister\u001b[0;34m(msims, transform_key, reg_channel_index, reg_channel, new_transform_key, registration_binning, overlap_tolerance, pairwise_reg_func, pairwise_reg_func_kwargs, groupwise_resolution_method, groupwise_resolution_kwargs, pre_registration_pruning_method, post_registration_do_quality_filter, post_registration_quality_threshold, plot_summary, pairs, scheduler, n_parallel_pairwise_regs, return_dict)\u001b[0m\n\u001b[1;32m   1862\u001b[0m \u001b[38;5;28;01mif\u001b[39;00m post_registration_do_quality_filter:\n\u001b[1;32m   1863\u001b[0m     \u001b[38;5;66;03m# filter edges by quality\u001b[39;00m\n\u001b[1;32m   1864\u001b[0m     g_reg_computed \u001b[38;5;241m=\u001b[39m mv_graph\u001b[38;5;241m.\u001b[39mfilter_edges(\n\u001b[1;32m   1865\u001b[0m         g_reg_computed,\n\u001b[1;32m   1866\u001b[0m         threshold\u001b[38;5;241m=\u001b[39mpost_registration_quality_threshold,\n\u001b[1;32m   1867\u001b[0m         weight_key\u001b[38;5;241m=\u001b[39m\u001b[38;5;124m\"\u001b[39m\u001b[38;5;124mquality\u001b[39m\u001b[38;5;124m\"\u001b[39m,\n\u001b[1;32m   1868\u001b[0m     )\n\u001b[0;32m-> 1870\u001b[0m params, groupwise_resolution_info_dict \u001b[38;5;241m=\u001b[39m \u001b[43mgroupwise_resolution\u001b[49m\u001b[43m(\u001b[49m\n\u001b[1;32m   1871\u001b[0m \u001b[43m    \u001b[49m\u001b[43mg_reg_computed\u001b[49m\u001b[43m,\u001b[49m\n\u001b[1;32m   1872\u001b[0m \u001b[43m    \u001b[49m\u001b[43mmethod\u001b[49m\u001b[38;5;241;43m=\u001b[39;49m\u001b[43mgroupwise_resolution_method\u001b[49m\u001b[43m,\u001b[49m\n\u001b[1;32m   1873\u001b[0m \u001b[43m    \u001b[49m\u001b[38;5;241;43m*\u001b[39;49m\u001b[38;5;241;43m*\u001b[39;49m\u001b[43mgroupwise_resolution_kwargs\u001b[49m\u001b[43m,\u001b[49m\n\u001b[1;32m   1874\u001b[0m \u001b[43m\u001b[49m\u001b[43m)\u001b[49m\n\u001b[1;32m   1876\u001b[0m params \u001b[38;5;241m=\u001b[39m [params[iview] \u001b[38;5;28;01mfor\u001b[39;00m iview \u001b[38;5;129;01min\u001b[39;00m \u001b[38;5;28msorted\u001b[39m(g_reg_computed\u001b[38;5;241m.\u001b[39mnodes())]\n\u001b[1;32m   1878\u001b[0m \u001b[38;5;28;01mif\u001b[39;00m new_transform_key \u001b[38;5;129;01mis\u001b[39;00m \u001b[38;5;129;01mnot\u001b[39;00m \u001b[38;5;28;01mNone\u001b[39;00m:\n",
      "File \u001b[0;32m~/miniforge3/envs/pyczi/lib/python3.10/site-packages/multiview_stitcher/registration.py:958\u001b[0m, in \u001b[0;36mgroupwise_resolution\u001b[0;34m(g_reg, method, **kwargs)\u001b[0m\n\u001b[1;32m    956\u001b[0m \u001b[38;5;28;01mdef\u001b[39;00m\u001b[38;5;250m \u001b[39m\u001b[38;5;21mgroupwise_resolution\u001b[39m(g_reg, method\u001b[38;5;241m=\u001b[39m\u001b[38;5;124m\"\u001b[39m\u001b[38;5;124mglobal_optimization\u001b[39m\u001b[38;5;124m\"\u001b[39m, \u001b[38;5;241m*\u001b[39m\u001b[38;5;241m*\u001b[39mkwargs):\n\u001b[1;32m    957\u001b[0m     \u001b[38;5;28;01mif\u001b[39;00m \u001b[38;5;129;01mnot\u001b[39;00m \u001b[38;5;28mlen\u001b[39m(g_reg\u001b[38;5;241m.\u001b[39medges):\n\u001b[0;32m--> 958\u001b[0m         \u001b[38;5;28;01mraise\u001b[39;00m (\n\u001b[1;32m    959\u001b[0m             mv_graph\u001b[38;5;241m.\u001b[39mNotEnoughOverlapError(\n\u001b[1;32m    960\u001b[0m                 \u001b[38;5;124m\"\u001b[39m\u001b[38;5;124mNot enough overlap between views\u001b[39m\u001b[38;5;130;01m\\\u001b[39;00m\n\u001b[1;32m    961\u001b[0m \u001b[38;5;124m        for stitching.\u001b[39m\u001b[38;5;124m\"\u001b[39m\n\u001b[1;32m    962\u001b[0m             )\n\u001b[1;32m    963\u001b[0m         )\n\u001b[1;32m    965\u001b[0m     \u001b[38;5;66;03m# if only two views, set reference view to the first view\u001b[39;00m\n\u001b[1;32m    966\u001b[0m     \u001b[38;5;66;03m# this is compatible with a [fixed, moving] convention\u001b[39;00m\n\u001b[1;32m    967\u001b[0m     \u001b[38;5;28;01mif\u001b[39;00m \u001b[38;5;124m\"\u001b[39m\u001b[38;5;124mreference_view\u001b[39m\u001b[38;5;124m\"\u001b[39m \u001b[38;5;129;01mnot\u001b[39;00m \u001b[38;5;129;01min\u001b[39;00m kwargs \u001b[38;5;129;01mand\u001b[39;00m \u001b[38;5;28mlen\u001b[39m(g_reg\u001b[38;5;241m.\u001b[39mnodes) \u001b[38;5;241m==\u001b[39m \u001b[38;5;241m2\u001b[39m:\n",
      "\u001b[0;31mNotEnoughOverlapError\u001b[0m: Not enough overlap between views        for stitching."
     ]
    }
   ],
   "source": [
    "with dask.diagnostics.ProgressBar():\n",
    "\n",
    "    params = registration.register(\n",
    "        msims,\n",
    "        registration_binning={'z': 1, 'y': 2, 'x': 2},\n",
    "        reg_channel_index=0,\n",
    "        transform_key=curr_transform_key,\n",
    "        new_transform_key='affine_registered',\n",
    "        pre_registration_pruning_method=\"keep_axis_aligned\", # works well for tiles on a grid\n",
    "    )"
   ]
  },
  {
   "cell_type": "markdown",
   "metadata": {},
   "source": [
    "### Print the obtained parameters.\n",
    "How to interpret them?\n",
    "\n",
    "parameters are expressed as homogeneous matrices of dimensions (n+1, n+1)\n",
    "- the first n rows and columns correspond to the linear part of the transformation\n",
    "- the first three elements of the last column correspond to the translation in (z, y, x)\n",
    "- the parameters map the coordinates of the input files (considering their scale and translation) into a world coordinate system in which the tiles are registered"
   ]
  },
  {
   "cell_type": "code",
   "execution_count": 26,
   "metadata": {},
   "outputs": [
    {
     "name": "stdout",
     "output_type": "stream",
     "text": [
      "tile index 0\n",
      " [[ 1.00000000e+00  0.00000000e+00  0.00000000e+00  3.80000000e+00]\n",
      " [ 0.00000000e+00  1.00000000e+00  0.00000000e+00 -1.83300000e+01]\n",
      " [ 0.00000000e+00  0.00000000e+00  1.00000000e+00  1.09276247e-14]\n",
      " [ 0.00000000e+00  0.00000000e+00  0.00000000e+00  1.00000000e+00]]\n",
      "tile index 1\n",
      " [[  1.       0.       0.     -37.6   ]\n",
      " [  0.       1.       0.      -0.0705]\n",
      " [  0.       0.       1.      -0.9165]\n",
      " [  0.       0.       0.       1.    ]]\n",
      "tile index 2\n",
      " [[1. 0. 0. 0.]\n",
      " [0. 1. 0. 0.]\n",
      " [0. 0. 1. 0.]\n",
      " [0. 0. 0. 1.]]\n",
      "tile index 3\n",
      " [[ 1.00000000e+00  0.00000000e+00  0.00000000e+00 -7.60000000e+00]\n",
      " [ 0.00000000e+00  1.00000000e+00  0.00000000e+00 -1.83300000e+01]\n",
      " [ 0.00000000e+00  0.00000000e+00  1.00000000e+00  1.09276247e-14]\n",
      " [ 0.00000000e+00  0.00000000e+00  0.00000000e+00  1.00000000e+00]]\n"
     ]
    }
   ],
   "source": [
    "for imsim, msim in enumerate(msims):\n",
    "    affine = np.array(msi_utils.get_transform_from_msim(msim, transform_key='affine_registered')[0])\n",
    "    print(f'tile index {imsim}\\n', affine)"
   ]
  },
  {
   "cell_type": "markdown",
   "metadata": {},
   "source": [
    "### Fuse views (linear blending)\n",
    "Save output into OME-ZARR"
   ]
  },
  {
   "cell_type": "code",
   "execution_count": 27,
   "metadata": {},
   "outputs": [
    {
     "name": "stdout",
     "output_type": "stream",
     "text": [
      "Fusing views and saving output to /mnt/Data/nuno_martins/Image_data/Ex010_Re01/ExM/20250417_2/Airyscan_processed/split_czi/stitched_files/fused.zarr...\n",
      "[########################################] | 100% Completed | 215.61 s\n",
      "[########################################] | 100% Completed | 6.97 sms\n",
      "[########################################] | 100% Completed | 929.56 ms\n",
      "[########################################] | 100% Completed | 203.96 ms\n",
      "[########################################] | 100% Completed | 100.95 ms\n",
      "[########################################] | 100% Completed | 100.88 ms\n",
      "[########################################] | 100% Completed | 100.89 ms\n",
      "[########################################] | 100% Completed | 101.72 ms\n",
      "[########################################] | 100% Completed | 101.47 ms\n",
      "[########################################] | 100% Completed | 101.43 ms\n",
      "[########################################] | 100% Completed | 101.44 ms\n"
     ]
    }
   ],
   "source": [
    "output_dir = save_path\n",
    "output_filename = os.path.join(output_dir, 'fused.zarr')\n",
    "\n",
    "fused = fusion.fuse(\n",
    "    [msi_utils.get_sim_from_msim(msim) for msim in msims],\n",
    "    transform_key='affine_registered',\n",
    "    output_chunksize=256,\n",
    "    )\n",
    "\n",
    "print(f'Fusing views and saving output to {output_filename}...')\n",
    "with dask.diagnostics.ProgressBar():\n",
    "    fused = ngff_utils.write_sim_to_ome_zarr(\n",
    "        fused, output_filename, overwrite=True\n",
    "    )"
   ]
  },
  {
   "cell_type": "code",
   "execution_count": null,
   "metadata": {},
   "outputs": [],
   "source": []
  }
 ],
 "metadata": {
  "kernelspec": {
   "display_name": "pyczi",
   "language": "python",
   "name": "python3"
  },
  "language_info": {
   "codemirror_mode": {
    "name": "ipython",
    "version": 3
   },
   "file_extension": ".py",
   "mimetype": "text/x-python",
   "name": "python",
   "nbconvert_exporter": "python",
   "pygments_lexer": "ipython3",
   "version": "3.10.17"
  }
 },
 "nbformat": 4,
 "nbformat_minor": 2
}
