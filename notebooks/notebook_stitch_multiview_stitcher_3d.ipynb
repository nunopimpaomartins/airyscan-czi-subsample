{
 "cells": [
  {
   "cell_type": "markdown",
   "metadata": {},
   "source": [
    "# Import packages\n",
    "run the following cell to import necessary packages to run the analysis"
   ]
  },
  {
   "cell_type": "code",
   "execution_count": 1,
   "metadata": {},
   "outputs": [],
   "source": [
    "import os\n",
    "from pathlib import Path\n",
    "import zipfile\n",
    "import xarray as xr\n",
    "\n",
    "from tqdm.notebook import tqdm\n",
    "import numpy as np\n",
    "import dask.diagnostics\n",
    "import ngff_zarr\n",
    "import dask.array as da\n",
    "import tifffile\n",
    "from multiview_stitcher import spatial_image_utils as si_utils\n",
    "from multiview_stitcher import (\n",
    "    fusion,\n",
    "    io,\n",
    "    msi_utils,\n",
    "    vis_utils,\n",
    "    ngff_utils,\n",
    "    param_utils,\n",
    "    registration\n",
    ")"
   ]
  },
  {
   "cell_type": "markdown",
   "metadata": {},
   "source": [
    "# Reading data"
   ]
  },
  {
   "cell_type": "code",
   "execution_count": 2,
   "metadata": {},
   "outputs": [
    {
     "name": "stdout",
     "output_type": "stream",
     "text": [
      "21\n"
     ]
    }
   ],
   "source": [
    "# data_path = Path('/mnt/Data/nuno_martins/Image_data/Ex011_Re01/ExM/sample_data/')\n",
    "data_path = Path('/mnt/Data/nuno_martins/Image_data/Ex010_Re01/ExM/20250417_2/Airyscan_processed/split_czi/')\n",
    "filelist = os.listdir(data_path)\n",
    "print(len(filelist))"
   ]
  },
  {
   "cell_type": "code",
   "execution_count": 3,
   "metadata": {},
   "outputs": [
    {
     "data": {
      "text/plain": [
       "['gel4c_-01-5_AcquisitionBlock1_pt1_sub1-Scene-1-Airyscan Processing-01_2_tile01.czi',\n",
       " 'gel4c_-01-5_AcquisitionBlock1_pt1_sub1-Scene-1-Airyscan Processing-01_2_tile02.czi',\n",
       " 'gel4c_-01-5_AcquisitionBlock1_pt1_sub2-Scene-1-Airyscan Processing-02_2_tile01.czi',\n",
       " 'gel4c_-01-5_AcquisitionBlock1_pt1_sub2-Scene-1-Airyscan Processing-02_2_tile02.czi',\n",
       " 'gel4c_-01-5_AcquisitionBlock4_pt4_sub1-Scene-1-Airyscan Processing-07_2_tile01.czi',\n",
       " 'gel4c_-01-5_AcquisitionBlock4_pt4_sub1-Scene-1-Airyscan Processing-07_2_tile02.czi',\n",
       " 'gel4c_-01-5_AcquisitionBlock4_pt4_sub1-Scene-1-Airyscan Processing-07_2_tile03.czi',\n",
       " 'gel4c_-01-5_AcquisitionBlock4_pt4_sub1-Scene-1-Airyscan Processing-07_2_tile04.czi',\n",
       " 'gel4c_-01-5_AcquisitionBlock4_pt4_sub2-Scene-1-Airyscan Processing-08_2_tile01.czi',\n",
       " 'gel4c_-01-5_AcquisitionBlock4_pt4_sub2-Scene-1-Airyscan Processing-08_2_tile02.czi',\n",
       " 'gel4c_-01-5_AcquisitionBlock4_pt4_sub2-Scene-1-Airyscan Processing-08_2_tile03.czi',\n",
       " 'gel4c_-01-5_AcquisitionBlock4_pt4_sub2-Scene-1-Airyscan Processing-08_2_tile04.czi',\n",
       " 'gel4c_-01-5_AcquisitionBlock4_pt4_sub3-Scene-1-Airyscan Processing-09_2_tile01.czi',\n",
       " 'gel4c_-01-5_AcquisitionBlock4_pt4_sub3-Scene-1-Airyscan Processing-09_2_tile02.czi',\n",
       " 'gel4c_-01-5_AcquisitionBlock4_pt4_sub3-Scene-1-Airyscan Processing-09_2_tile03.czi',\n",
       " 'gel4c_-01-5_AcquisitionBlock4_pt4_sub3-Scene-1-Airyscan Processing-09_2_tile04.czi']"
      ]
     },
     "execution_count": 3,
     "metadata": {},
     "output_type": "execute_result"
    }
   ],
   "source": [
    "filelist = [x for x in filelist if x.find('.czi')>0]\n",
    "filelist.sort()\n",
    "filelist"
   ]
  },
  {
   "cell_type": "code",
   "execution_count": null,
   "metadata": {},
   "outputs": [],
   "source": [
    "filelist_sorted = [f[:f.index('_sub')] for f in filelist]\n",
    "# print(filelist_sorted)\n",
    "filelist_sorted = list(set(filelist_sorted))\n",
    "filelist_sorted.sort()\n",
    "print(filelist_sorted)"
   ]
  },
  {
   "cell_type": "code",
   "execution_count": null,
   "metadata": {},
   "outputs": [],
   "source": [
    "filtered_names = []\n",
    "for name in filelist:\n",
    "    if name.find(filelist_sorted[0]) >= 0:\n",
    "        filtered_names.append(name)\n",
    "        # print(name)\n",
    "\n",
    "print(len(filtered_names))\n",
    "[print(f'{f}') for f in filtered_names]"
   ]
  },
  {
   "cell_type": "code",
   "execution_count": null,
   "metadata": {},
   "outputs": [],
   "source": [
    "filtered_names_2 = [f[:f.index('_sub') + 5] for f in filtered_names]\n",
    "filtered_names_2 = list(set(filtered_names_2))\n",
    "filtered_names_2.sort()\n",
    "print(filtered_names_2)"
   ]
  },
  {
   "cell_type": "code",
   "execution_count": 4,
   "metadata": {},
   "outputs": [
    {
     "data": {
      "text/plain": [
       "['gel4c_-01-5_AcquisitionBlock4_pt4_sub1-Scene-1-Airyscan Processing-07_2_tile01.czi',\n",
       " 'gel4c_-01-5_AcquisitionBlock4_pt4_sub2-Scene-1-Airyscan Processing-08_2_tile01.czi']"
      ]
     },
     "execution_count": 4,
     "metadata": {},
     "output_type": "execute_result"
    }
   ],
   "source": [
    "# tiles = range(4,8)\n",
    "tiles = [4, 8]\n",
    "filelist_tiles = [filelist[i] for i in tiles]\n",
    "filelist_tiles"
   ]
  },
  {
   "cell_type": "code",
   "execution_count": 5,
   "metadata": {},
   "outputs": [
    {
     "data": {
      "text/plain": [
       "['gel4c_-01-5_AcquisitionBlock4_pt4_sub1-Scene-1-Airyscan_Processing-07_2_tile01',\n",
       " 'gel4c_-01-5_AcquisitionBlock4_pt4_sub2-Scene-1-Airyscan_Processing-08_2_tile01']"
      ]
     },
     "execution_count": 5,
     "metadata": {},
     "output_type": "execute_result"
    }
   ],
   "source": [
    "filelist_tiles_save = [x[:x.index('.czi')].replace(\" \", \"_\") for x in filelist_tiles]\n",
    "filelist_tiles_save"
   ]
  },
  {
   "cell_type": "code",
   "execution_count": 6,
   "metadata": {},
   "outputs": [
    {
     "name": "stdout",
     "output_type": "stream",
     "text": [
      "Example filename:\n",
      " /mnt/Data/nuno_martins/Image_data/Ex010_Re01/ExM/20250417_2/Airyscan_processed/split_czi/gel4c_-01-5_AcquisitionBlock4_pt4_sub1-Scene-1-Airyscan Processing-07_2_tile01.czi\n"
     ]
    }
   ],
   "source": [
    "\n",
    "def get_filename_from_tile_and_channel(tile):\n",
    "    \"\"\"\n",
    "    This convenience function returns the filename given the tile and channel.\n",
    "    \"\"\"\n",
    "    return data_path / f'{tile}'\n",
    "\n",
    "print('Example filename:\\n', get_filename_from_tile_and_channel(filelist_tiles[0]))"
   ]
  },
  {
   "cell_type": "code",
   "execution_count": 7,
   "metadata": {},
   "outputs": [
    {
     "name": "stdout",
     "output_type": "stream",
     "text": [
      "/mnt/Data/nuno_martins/Image_data/Ex010_Re01/ExM/20250417_2/Airyscan_processed/split_czi/stitched_files\n"
     ]
    }
   ],
   "source": [
    "save_path = Path(str(data_path)+'/stitched_files/')\n",
    "save_path.mkdir(parents=True, exist_ok=True)\n",
    "print(save_path)"
   ]
  },
  {
   "cell_type": "markdown",
   "metadata": {},
   "source": [
    "___\n",
    "# Arranging tiles on a grid\n"
   ]
  },
  {
   "cell_type": "code",
   "execution_count": 8,
   "metadata": {},
   "outputs": [
    {
     "name": "stdout",
     "output_type": "stream",
     "text": [
      "Tile grid indices:\n",
      "Tile 0: {'z': 0, 'y': 1, 'x': 1}\n",
      "Tile 1: {'z': 1, 'y': 1, 'x': 1}\n"
     ]
    }
   ],
   "source": [
    "# indicate how the tile index maps onto the grid position for each tile index\n",
    "# (as a function of the tile index)\n",
    "# examples:\n",
    "#  get_tile_grid_position_from_tile_index(0) -> {'z': 0, 'y': 0, 'x': 0}\n",
    "#  get_tile_grid_position_from_tile_index(1) -> {'z': 0, 'y': 0, 'x': 1}\n",
    "#  get_tile_grid_position_from_tile_index(2) -> {'z': 0, 'y': 1, 'x': 0}\n",
    "#  etc.\n",
    "num_cols = 2\n",
    "num_z = 2\n",
    "\n",
    "def get_tile_grid_position_from_tile_index(tile_index, z_planes=2):\n",
    "    # num_xy_columns = 2\n",
    "    return {\n",
    "        'z': tile_index % z_planes, # all tiles are on the same z position\n",
    "        'y': 1,\n",
    "        'x': 1\n",
    "    }\n",
    "\n",
    "print(\"Tile grid indices:\")\n",
    "print(\"\\n\".join([f\"Tile {itile}: \" + str(get_tile_grid_position_from_tile_index(itile))\n",
    "    for itile, tile in enumerate(tiles)]))"
   ]
  },
  {
   "cell_type": "markdown",
   "metadata": {},
   "source": [
    "___\n",
    "# Read raw data\n",
    "reading raw tile data from `czi` tile without stitching for visualization."
   ]
  },
  {
   "cell_type": "code",
   "execution_count": 9,
   "metadata": {},
   "outputs": [],
   "source": [
    "# from tifffile import imread\n",
    "from bioio import BioImage\n",
    "import bioio_czi"
   ]
  },
  {
   "cell_type": "code",
   "execution_count": 10,
   "metadata": {},
   "outputs": [
    {
     "data": {
      "text/plain": [
       "{'z': 400000.00000000006, 'y': 44928.096407997306, 'x': 44928.096407997306}"
      ]
     },
     "execution_count": 10,
     "metadata": {},
     "output_type": "execute_result"
    }
   ],
   "source": [
    "# image_data = imread(str(data_path) + '/' + filelist[file_index])\n",
    "file_path = str(data_path / filelist_tiles[0])\n",
    "img = BioImage(\n",
    "    file_path, \n",
    "    reader=bioio_czi.Reader, \n",
    "    reconstruct_mosaic=False,\n",
    "    include_subblock_metadata=True,\n",
    "    use_aicspylibczi=True,\n",
    "    )\n",
    "\n",
    "scale = {'z': img.scale.Z, 'y': img.scale.Y, 'x': img.scale.X}\n",
    "scale"
   ]
  },
  {
   "cell_type": "code",
   "execution_count": 11,
   "metadata": {},
   "outputs": [
    {
     "data": {
      "text/plain": [
       "(<Dimensions [M: 4, T: 1, C: 3, Z: 260, Y: 1810, X: 1810]>, 'MTCZYX')"
      ]
     },
     "execution_count": 11,
     "metadata": {},
     "output_type": "execute_result"
    }
   ],
   "source": [
    "img.dims, img.dims.order"
   ]
  },
  {
   "cell_type": "code",
   "execution_count": 13,
   "metadata": {},
   "outputs": [
    {
     "name": "stdout",
     "output_type": "stream",
     "text": [
      "Tile scale: {'z': 0.4, 'y': 0.047, 'x': 0.047} \n",
      " Tile overlap: {'z': 0.1} \n",
      " Tile shape: {'z': 260, 'y': 1810, 'x': 1810}\n"
     ]
    }
   ],
   "source": [
    "# indicate input pixel spacing\n",
    "# will be infered from metadata, but current datasets are incorrect\n",
    "scale = {'z': .4, 'y': .047, 'x': .047}\n",
    "\n",
    "# indicate approximate overlap between tiles relative to the image shape\n",
    "overlap = {\n",
    "    # 'x': 0.1,  # 10% overlap in x\n",
    "    # 'y': 0.1,  # 10% overlap in y\n",
    "    'z': 0.1   # no overlap in z\n",
    "}\n",
    "\n",
    "# get image data shape from the first tile (without channel dim, i.e. in (z)yx)\n",
    "# (this line can be replaced by e.g.: `tile_shape = {'z': 100, 'y': 1000, 'x': 1000}`)\n",
    "# tile_shape = {\n",
    "#     dim: s for dim, s in zip(\n",
    "#         ['z', 'c', 'y', 'x'],\n",
    "#         tifffile.imread(get_filename_from_tile_and_channel(tiles[0])).shape\n",
    "#     ) if dim != 'c'\n",
    "# }\n",
    "# print(\"Tile shape: \", tile_shape)\n",
    "\n",
    "tile_shape = {\n",
    "    'z': img.dims.Z,\n",
    "    'y': img.dims.Y,\n",
    "    'x': img.dims.X\n",
    "}\n",
    "print('Tile scale:', scale, '\\n Tile overlap:', overlap, '\\n Tile shape:', tile_shape)\n",
    "# scale, overlap, tile_shape"
   ]
  },
  {
   "cell_type": "code",
   "execution_count": 14,
   "metadata": {},
   "outputs": [
    {
     "name": "stdout",
     "output_type": "stream",
     "text": [
      "Tile positions:\n",
      "Tile 0: {'z': 0.0, 'y': 0.0, 'x': 0.0}\n",
      "Tile 1: {'z': 93.60000000000001, 'y': 0.0, 'x': 0.0}\n"
     ]
    },
    {
     "data": {
      "image/png": "[encoded data removed]",
      "text/plain": [
       "<Figure size 640x480 with 1 Axes>"
      ]
     },
     "metadata": {},
     "output_type": "display_data"
    },
    {
     "data": {
      "text/plain": [
       "(<Figure size 640x480 with 1 Axes>,\n",
       " <Axes3D: xlabel='z [μm]', ylabel='x [μm]', zlabel='y [μm]'>)"
      ]
     },
     "execution_count": 14,
     "metadata": {},
     "output_type": "execute_result"
    }
   ],
   "source": [
    "translations = []\n",
    "for itile, tile in enumerate(tiles):\n",
    "    tile_grid_position = get_tile_grid_position_from_tile_index(itile)\n",
    "    translations.append(\n",
    "        {\n",
    "            dim: tile_grid_position[dim] * (1 - (overlap[dim] if dim in overlap else 1)) * tile_shape[dim] * scale[dim]\n",
    "            for dim in scale\n",
    "        }\n",
    "    )\n",
    "\n",
    "print(\"Tile positions:\")\n",
    "print(\"\\n\".join([f\"Tile {itile}: \" + str(t) for itile, t in enumerate(translations)]))\n",
    "\n",
    "# visualize the tile positions\n",
    "# uncomment the following line to have an interactive 3D visualization (requires `ipympl` to be installed)\n",
    "# %matplotlib ipympl\n",
    "vis_utils.plot_positions(\n",
    "    [msi_utils.get_msim_from_sim(si_utils.get_sim_from_array(\n",
    "        da.zeros([tile_shape[dim] for dim in scale]), dims=list(scale.keys()), scale=scale, translation=translations[i]))\n",
    "        for i in range(len(tiles))],\n",
    "    use_positional_colors=False,\n",
    "    transform_key=io.METADATA_TRANSFORM_KEY,\n",
    ")"
   ]
  },
  {
   "cell_type": "code",
   "execution_count": 15,
   "metadata": {},
   "outputs": [
    {
     "data": {
      "text/plain": [
       "[{'z': 0.0, 'y': 0.0, 'x': 0.0}, {'z': 93.60000000000001, 'y': 0.0, 'x': 0.0}]"
      ]
     },
     "execution_count": 15,
     "metadata": {},
     "output_type": "execute_result"
    }
   ],
   "source": [
    "translations"
   ]
  },
  {
   "cell_type": "code",
   "execution_count": 16,
   "metadata": {},
   "outputs": [
    {
     "data": {
      "application/vnd.jupyter.widget-view+json": {
       "model_id": "a47d340188fc4ad7a510e4827d658e21",
       "version_major": 2,
       "version_minor": 0
      },
      "text/plain": [
       "0it [00:00, ?it/s]"
      ]
     },
     "metadata": {},
     "output_type": "display_data"
    },
    {
     "name": "stdout",
     "output_type": "stream",
     "text": [
      "/mnt/Data/nuno_martins/Image_data/Ex010_Re01/ExM/20250417_2/Airyscan_processed/split_czi/gel4c_-01-5_AcquisitionBlock4_pt4_sub1-Scene-1-Airyscan_Processing-07_2_tile01.zarr\n",
      "/mnt/Data/nuno_martins/Image_data/Ex010_Re01/ExM/20250417_2/Airyscan_processed/split_czi/gel4c_-01-5_AcquisitionBlock4_pt4_sub2-Scene-1-Airyscan_Processing-08_2_tile01.zarr\n"
     ]
    }
   ],
   "source": [
    "# Read input tiles and convert to OME-Zarr files\n",
    "overwrite = True\n",
    "\n",
    "msims = []\n",
    "zarr_paths = []\n",
    "for itile, tile in tqdm(enumerate(filelist_tiles)):\n",
    "\n",
    "    # where to save the zarr(s)\n",
    "    zarr_path = os.path.join(os.path.dirname(get_filename_from_tile_and_channel(tile)), filelist_tiles_save[itile]+'.zarr')\n",
    "\n",
    "    print(zarr_path)\n",
    "\n",
    "    # read tile image\n",
    "    if os.path.exists(zarr_path) and not overwrite:\n",
    "        im_data = da.from_zarr(os.path.join(zarr_path, '0'))[0] # drop t axis automatically added\n",
    "    else:\n",
    "        # im_data = tifffile.imread(get_filename_from_tile_and_channel(tile))\n",
    "        file_path = str(data_path / tile)\n",
    "        img = BioImage(\n",
    "            file_path, \n",
    "            reader=bioio_czi.Reader, \n",
    "            reconstruct_mosaic=False,\n",
    "            include_subblock_metadata=True,\n",
    "            use_aicspylibczi=True,\n",
    "        )\n",
    "        im_data = img.get_image_data(img.dims.order[img.dims.order.index('T')+1:])\n",
    "\n",
    "    sim = si_utils.get_sim_from_array(\n",
    "        im_data,\n",
    "        dims=[\"c\", \"z\", \"y\", \"x\"],\n",
    "        scale=scale,\n",
    "        translation=translations[itile],\n",
    "        transform_key=io.METADATA_TRANSFORM_KEY,\n",
    "        )\n",
    "\n",
    "    # write to OME-Zarr\n",
    "    ngff_utils.write_sim_to_ome_zarr(sim, zarr_path, overwrite=overwrite)\n",
    "    # replace sim with the sim read from the written OME-Zarr\n",
    "    sim = ngff_utils.read_sim_from_ome_zarr(zarr_path)\n",
    "\n",
    "    # alternatively `write_sim_to_ome_zarr` returns a sim loaded from the written OME-Zarr\n",
    "    # sim = ngff_utils.write_sim_to_ome_zarr(sim, zarr_path, overwrite=overwrite)\n",
    "\n",
    "    msim = msi_utils.get_msim_from_sim(sim)\n",
    "    zarr_paths.append(zarr_path)\n",
    "\n",
    "    msims.append(msim)\n",
    "\n",
    "urls = zarr_paths"
   ]
  },
  {
   "cell_type": "code",
   "execution_count": 17,
   "metadata": {},
   "outputs": [
    {
     "data": {
      "text/html": [
       "<div><svg style=\"position: absolute; width: 0; height: 0; overflow: hidden\">\n",
       "<defs>\n",
       "<symbol id=\"icon-database\" viewBox=\"0 0 32 32\">\n",
       "<path d=\"M16 0c-8.837 0-16 2.239-16 5v4c0 2.761 7.163 5 16 5s16-2.239 16-5v-4c0-2.761-7.163-5-16-5z\"></path>\n",
       "<path d=\"M16 17c-8.837 0-16-2.239-16-5v6c0 2.761 7.163 5 16 5s16-2.239 16-5v-6c0 2.761-7.163 5-16 5z\"></path>\n",
       "<path d=\"M16 26c-8.837 0-16-2.239-16-5v6c0 2.761 7.163 5 16 5s16-2.239 16-5v-6c0 2.761-7.163 5-16 5z\"></path>\n",
       "</symbol>\n",
       "<symbol id=\"icon-file-text2\" viewBox=\"0 0 32 32\">\n",
       "<path d=\"M28.681 7.159c-0.694-0.947-1.662-2.053-2.724-3.116s-2.169-2.030-3.116-2.724c-1.612-1.182-2.393-1.319-2.841-1.319h-15.5c-1.378 0-2.5 1.121-2.5 2.5v27c0 1.378 1.122 2.5 2.5 2.5h23c1.378 0 2.5-1.122 2.5-2.5v-19.5c0-0.448-0.137-1.23-1.319-2.841zM24.543 5.457c0.959 0.959 1.712 1.825 2.268 2.543h-4.811v-4.811c0.718 0.556 1.584 1.309 2.543 2.268zM28 29.5c0 0.271-0.229 0.5-0.5 0.5h-23c-0.271 0-0.5-0.229-0.5-0.5v-27c0-0.271 0.229-0.5 0.5-0.5 0 0 15.499-0 15.5 0v7c0 0.552 0.448 1 1 1h7v19.5z\"></path>\n",
       "<path d=\"M23 26h-14c-0.552 0-1-0.448-1-1s0.448-1 1-1h14c0.552 0 1 0.448 1 1s-0.448 1-1 1z\"></path>\n",
       "<path d=\"M23 22h-14c-0.552 0-1-0.448-1-1s0.448-1 1-1h14c0.552 0 1 0.448 1 1s-0.448 1-1 1z\"></path>\n",
       "<path d=\"M23 18h-14c-0.552 0-1-0.448-1-1s0.448-1 1-1h14c0.552 0 1 0.448 1 1s-0.448 1-1 1z\"></path>\n",
       "</symbol>\n",
       "</defs>\n",
       "</svg>\n",
       "<style>/* CSS stylesheet for displaying xarray objects in jupyterlab.\n",
       " *\n",
       " */\n",
       "\n",
       ":root {\n",
       "  --xr-font-color0: var(--jp-content-font-color0, rgba(0, 0, 0, 1));\n",
       "  --xr-font-color2: var(--jp-content-font-color2, rgba(0, 0, 0, 0.54));\n",
       "  --xr-font-color3: var(--jp-content-font-color3, rgba(0, 0, 0, 0.38));\n",
       "  --xr-border-color: var(--jp-border-color2, #e0e0e0);\n",
       "  --xr-disabled-color: var(--jp-layout-color3, #bdbdbd);\n",
       "  --xr-background-color: var(--jp-layout-color0, white);\n",
       "  --xr-background-color-row-even: var(--jp-layout-color1, white);\n",
       "  --xr-background-color-row-odd: var(--jp-layout-color2, #eeeeee);\n",
       "}\n",
       "\n",
       "html[theme=\"dark\"],\n",
       "html[data-theme=\"dark\"],\n",
       "body[data-theme=\"dark\"],\n",
       "body.vscode-dark {\n",
       "  --xr-font-color0: rgba(255, 255, 255, 1);\n",
       "  --xr-font-color2: rgba(255, 255, 255, 0.54);\n",
       "  --xr-font-color3: rgba(255, 255, 255, 0.38);\n",
       "  --xr-border-color: #1f1f1f;\n",
       "  --xr-disabled-color: #515151;\n",
       "  --xr-background-color: #111111;\n",
       "  --xr-background-color-row-even: #111111;\n",
       "  --xr-background-color-row-odd: #313131;\n",
       "}\n",
       "\n",
       ".xr-wrap {\n",
       "  display: block !important;\n",
       "  min-width: 300px;\n",
       "  max-width: 700px;\n",
       "}\n",
       "\n",
       ".xr-text-repr-fallback {\n",
       "  /* fallback to plain text repr when CSS is not injected (untrusted notebook) */\n",
       "  display: none;\n",
       "}\n",
       "\n",
       ".xr-header {\n",
       "  padding-top: 6px;\n",
       "  padding-bottom: 6px;\n",
       "  margin-bottom: 4px;\n",
       "  border-bottom: solid 1px var(--xr-border-color);\n",
       "}\n",
       "\n",
       ".xr-header > div,\n",
       ".xr-header > ul {\n",
       "  display: inline;\n",
       "  margin-top: 0;\n",
       "  margin-bottom: 0;\n",
       "}\n",
       "\n",
       ".xr-obj-type,\n",
       ".xr-array-name {\n",
       "  margin-left: 2px;\n",
       "  margin-right: 10px;\n",
       "}\n",
       "\n",
       ".xr-obj-type {\n",
       "  color: var(--xr-font-color2);\n",
       "}\n",
       "\n",
       ".xr-sections {\n",
       "  padding-left: 0 !important;\n",
       "  display: grid;\n",
       "  grid-template-columns: 150px auto auto 1fr 0 20px 0 20px;\n",
       "}\n",
       "\n",
       ".xr-section-item {\n",
       "  display: contents;\n",
       "}\n",
       "\n",
       ".xr-section-item input {\n",
       "  display: inline-block;\n",
       "  opacity: 0;\n",
       "  height: 0;\n",
       "}\n",
       "\n",
       ".xr-section-item input + label {\n",
       "  color: var(--xr-disabled-color);\n",
       "}\n",
       "\n",
       ".xr-section-item input:enabled + label {\n",
       "  cursor: pointer;\n",
       "  color: var(--xr-font-color2);\n",
       "}\n",
       "\n",
       ".xr-section-item input:focus + label {\n",
       "  border: 2px solid var(--xr-font-color0);\n",
       "}\n",
       "\n",
       ".xr-section-item input:enabled + label:hover {\n",
       "  color: var(--xr-font-color0);\n",
       "}\n",
       "\n",
       ".xr-section-summary {\n",
       "  grid-column: 1;\n",
       "  color: var(--xr-font-color2);\n",
       "  font-weight: 500;\n",
       "}\n",
       "\n",
       ".xr-section-summary > span {\n",
       "  display: inline-block;\n",
       "  padding-left: 0.5em;\n",
       "}\n",
       "\n",
       ".xr-section-summary-in:disabled + label {\n",
       "  color: var(--xr-font-color2);\n",
       "}\n",
       "\n",
       ".xr-section-summary-in + label:before {\n",
       "  display: inline-block;\n",
       "  content: \"►\";\n",
       "  font-size: 11px;\n",
       "  width: 15px;\n",
       "  text-align: center;\n",
       "}\n",
       "\n",
       ".xr-section-summary-in:disabled + label:before {\n",
       "  color: var(--xr-disabled-color);\n",
       "}\n",
       "\n",
       ".xr-section-summary-in:checked + label:before {\n",
       "  content: \"▼\";\n",
       "}\n",
       "\n",
       ".xr-section-summary-in:checked + label > span {\n",
       "  display: none;\n",
       "}\n",
       "\n",
       ".xr-section-summary,\n",
       ".xr-section-inline-details {\n",
       "  padding-top: 4px;\n",
       "  padding-bottom: 4px;\n",
       "}\n",
       "\n",
       ".xr-section-inline-details {\n",
       "  grid-column: 2 / -1;\n",
       "}\n",
       "\n",
       ".xr-section-details {\n",
       "  display: none;\n",
       "  grid-column: 1 / -1;\n",
       "  margin-bottom: 5px;\n",
       "}\n",
       "\n",
       ".xr-section-summary-in:checked ~ .xr-section-details {\n",
       "  display: contents;\n",
       "}\n",
       "\n",
       ".xr-array-wrap {\n",
       "  grid-column: 1 / -1;\n",
       "  display: grid;\n",
       "  grid-template-columns: 20px auto;\n",
       "}\n",
       "\n",
       ".xr-array-wrap > label {\n",
       "  grid-column: 1;\n",
       "  vertical-align: top;\n",
       "}\n",
       "\n",
       ".xr-preview {\n",
       "  color: var(--xr-font-color3);\n",
       "}\n",
       "\n",
       ".xr-array-preview,\n",
       ".xr-array-data {\n",
       "  padding: 0 5px !important;\n",
       "  grid-column: 2;\n",
       "}\n",
       "\n",
       ".xr-array-data,\n",
       ".xr-array-in:checked ~ .xr-array-preview {\n",
       "  display: none;\n",
       "}\n",
       "\n",
       ".xr-array-in:checked ~ .xr-array-data,\n",
       ".xr-array-preview {\n",
       "  display: inline-block;\n",
       "}\n",
       "\n",
       ".xr-dim-list {\n",
       "  display: inline-block !important;\n",
       "  list-style: none;\n",
       "  padding: 0 !important;\n",
       "  margin: 0;\n",
       "}\n",
       "\n",
       ".xr-dim-list li {\n",
       "  display: inline-block;\n",
       "  padding: 0;\n",
       "  margin: 0;\n",
       "}\n",
       "\n",
       ".xr-dim-list:before {\n",
       "  content: \"(\";\n",
       "}\n",
       "\n",
       ".xr-dim-list:after {\n",
       "  content: \")\";\n",
       "}\n",
       "\n",
       ".xr-dim-list li:not(:last-child):after {\n",
       "  content: \",\";\n",
       "  padding-right: 5px;\n",
       "}\n",
       "\n",
       ".xr-has-index {\n",
       "  font-weight: bold;\n",
       "}\n",
       "\n",
       ".xr-var-list,\n",
       ".xr-var-item {\n",
       "  display: contents;\n",
       "}\n",
       "\n",
       ".xr-var-item > div,\n",
       ".xr-var-item label,\n",
       ".xr-var-item > .xr-var-name span {\n",
       "  background-color: var(--xr-background-color-row-even);\n",
       "  margin-bottom: 0;\n",
       "}\n",
       "\n",
       ".xr-var-item > .xr-var-name:hover span {\n",
       "  padding-right: 5px;\n",
       "}\n",
       "\n",
       ".xr-var-list > li:nth-child(odd) > div,\n",
       ".xr-var-list > li:nth-child(odd) > label,\n",
       ".xr-var-list > li:nth-child(odd) > .xr-var-name span {\n",
       "  background-color: var(--xr-background-color-row-odd);\n",
       "}\n",
       "\n",
       ".xr-var-name {\n",
       "  grid-column: 1;\n",
       "}\n",
       "\n",
       ".xr-var-dims {\n",
       "  grid-column: 2;\n",
       "}\n",
       "\n",
       ".xr-var-dtype {\n",
       "  grid-column: 3;\n",
       "  text-align: right;\n",
       "  color: var(--xr-font-color2);\n",
       "}\n",
       "\n",
       ".xr-var-preview {\n",
       "  grid-column: 4;\n",
       "}\n",
       "\n",
       ".xr-index-preview {\n",
       "  grid-column: 2 / 5;\n",
       "  color: var(--xr-font-color2);\n",
       "}\n",
       "\n",
       ".xr-var-name,\n",
       ".xr-var-dims,\n",
       ".xr-var-dtype,\n",
       ".xr-preview,\n",
       ".xr-attrs dt {\n",
       "  white-space: nowrap;\n",
       "  overflow: hidden;\n",
       "  text-overflow: ellipsis;\n",
       "  padding-right: 10px;\n",
       "}\n",
       "\n",
       ".xr-var-name:hover,\n",
       ".xr-var-dims:hover,\n",
       ".xr-var-dtype:hover,\n",
       ".xr-attrs dt:hover {\n",
       "  overflow: visible;\n",
       "  width: auto;\n",
       "  z-index: 1;\n",
       "}\n",
       "\n",
       ".xr-var-attrs,\n",
       ".xr-var-data,\n",
       ".xr-index-data {\n",
       "  display: none;\n",
       "  background-color: var(--xr-background-color) !important;\n",
       "  padding-bottom: 5px !important;\n",
       "}\n",
       "\n",
       ".xr-var-attrs-in:checked ~ .xr-var-attrs,\n",
       ".xr-var-data-in:checked ~ .xr-var-data,\n",
       ".xr-index-data-in:checked ~ .xr-index-data {\n",
       "  display: block;\n",
       "}\n",
       "\n",
       ".xr-var-data > table {\n",
       "  float: right;\n",
       "}\n",
       "\n",
       ".xr-var-name span,\n",
       ".xr-var-data,\n",
       ".xr-index-name div,\n",
       ".xr-index-data,\n",
       ".xr-attrs {\n",
       "  padding-left: 25px !important;\n",
       "}\n",
       "\n",
       ".xr-attrs,\n",
       ".xr-var-attrs,\n",
       ".xr-var-data,\n",
       ".xr-index-data {\n",
       "  grid-column: 1 / -1;\n",
       "}\n",
       "\n",
       "dl.xr-attrs {\n",
       "  padding: 0;\n",
       "  margin: 0;\n",
       "  display: grid;\n",
       "  grid-template-columns: 125px auto;\n",
       "}\n",
       "\n",
       ".xr-attrs dt,\n",
       ".xr-attrs dd {\n",
       "  padding: 0;\n",
       "  margin: 0;\n",
       "  float: left;\n",
       "  padding-right: 10px;\n",
       "  width: auto;\n",
       "}\n",
       "\n",
       ".xr-attrs dt {\n",
       "  font-weight: normal;\n",
       "  grid-column: 1;\n",
       "}\n",
       "\n",
       ".xr-attrs dt:hover span {\n",
       "  display: inline-block;\n",
       "  background: var(--xr-background-color);\n",
       "  padding-right: 10px;\n",
       "}\n",
       "\n",
       ".xr-attrs dd {\n",
       "  grid-column: 2;\n",
       "  white-space: pre-wrap;\n",
       "  word-break: break-all;\n",
       "}\n",
       "\n",
       ".xr-icon-database,\n",
       ".xr-icon-file-text2,\n",
       ".xr-no-icon {\n",
       "  display: inline-block;\n",
       "  vertical-align: middle;\n",
       "  width: 1em;\n",
       "  height: 1.5em !important;\n",
       "  stroke-width: 0;\n",
       "  stroke: currentColor;\n",
       "  fill: currentColor;\n",
       "}\n",
       "</style><pre class='xr-text-repr-fallback'>&lt;xarray.DataArray &#x27;image&#x27; (t: 1, c: 3, z: 261, y: 1810, x: 1810)&gt; Size: 5GB\n",
       "dask.array&lt;from-zarr, shape=(1, 3, 261, 1810, 1810), dtype=uint16, chunksize=(1, 1, 256, 256, 256), chunktype=numpy.ndarray&gt;\n",
       "Coordinates:\n",
       "  * t        (t) int64 8B 0\n",
       "  * z        (z) float64 2kB 93.6 94.0 94.4 94.8 ... 196.4 196.8 197.2 197.6\n",
       "  * y        (y) float64 14kB 0.0 0.047 0.094 0.141 ... 84.88 84.93 84.98 85.02\n",
       "  * x        (x) float64 14kB 0.0 0.047 0.094 0.141 ... 84.88 84.93 84.98 85.02\n",
       "  * c        (c) &lt;U1 12B &#x27;0&#x27; &#x27;1&#x27; &#x27;2&#x27;\n",
       "Attributes:\n",
       "    transforms:  {&#x27;affine_metadata&#x27;: &lt;xarray.DataArray (t: 1, x_in: 4, x_out:...</pre><div class='xr-wrap' style='display:none'><div class='xr-header'><div class='xr-obj-type'>xarray.DataArray</div><div class='xr-array-name'>'image'</div><ul class='xr-dim-list'><li><span class='xr-has-index'>t</span>: 1</li><li><span class='xr-has-index'>c</span>: 3</li><li><span class='xr-has-index'>z</span>: 261</li><li><span class='xr-has-index'>y</span>: 1810</li><li><span class='xr-has-index'>x</span>: 1810</li></ul></div><ul class='xr-sections'><li class='xr-section-item'><div class='xr-array-wrap'><input id='section-73bc8368-2e88-4aa2-aaa7-1a9a748c58c9' class='xr-array-in' type='checkbox' checked><label for='section-73bc8368-2e88-4aa2-aaa7-1a9a748c58c9' title='Show/hide data repr'><svg class='icon xr-icon-database'><use xlink:href='#icon-database'></use></svg></label><div class='xr-array-preview xr-preview'><span>dask.array&lt;chunksize=(1, 1, 256, 256, 256), meta=np.ndarray&gt;</span></div><div class='xr-array-data'><table>\n",
       "    <tr>\n",
       "        <td>\n",
       "            <table style=\"border-collapse: collapse;\">\n",
       "                <thead>\n",
       "                    <tr>\n",
       "                        <td> </td>\n",
       "                        <th> Array </th>\n",
       "                        <th> Chunk </th>\n",
       "                    </tr>\n",
       "                </thead>\n",
       "                <tbody>\n",
       "                    \n",
       "                    <tr>\n",
       "                        <th> Bytes </th>\n",
       "                        <td> 4.78 GiB </td>\n",
       "                        <td> 32.00 MiB </td>\n",
       "                    </tr>\n",
       "                    \n",
       "                    <tr>\n",
       "                        <th> Shape </th>\n",
       "                        <td> (1, 3, 261, 1810, 1810) </td>\n",
       "                        <td> (1, 1, 256, 256, 256) </td>\n",
       "                    </tr>\n",
       "                    <tr>\n",
       "                        <th> Dask graph </th>\n",
       "                        <td colspan=\"2\"> 384 chunks in 2 graph layers </td>\n",
       "                    </tr>\n",
       "                    <tr>\n",
       "                        <th> Data type </th>\n",
       "                        <td colspan=\"2\"> uint16 numpy.ndarray </td>\n",
       "                    </tr>\n",
       "                </tbody>\n",
       "            </table>\n",
       "        </td>\n",
       "        <td>\n",
       "        <svg width=\"383\" height=\"193\" style=\"stroke:rgb(0,0,0);stroke-width:1\" >\n",
       "\n",
       "  <!-- Horizontal lines -->\n",
       "  <line x1=\"0\" y1=\"0\" x2=\"25\" y2=\"0\" style=\"stroke-width:2\" />\n",
       "  <line x1=\"0\" y1=\"25\" x2=\"25\" y2=\"25\" style=\"stroke-width:2\" />\n",
       "\n",
       "  <!-- Vertical lines -->\n",
       "  <line x1=\"0\" y1=\"0\" x2=\"0\" y2=\"25\" style=\"stroke-width:2\" />\n",
       "  <line x1=\"8\" y1=\"0\" x2=\"8\" y2=\"25\" />\n",
       "  <line x1=\"16\" y1=\"0\" x2=\"16\" y2=\"25\" />\n",
       "  <line x1=\"25\" y1=\"0\" x2=\"25\" y2=\"25\" style=\"stroke-width:2\" />\n",
       "\n",
       "  <!-- Colored Rectangle -->\n",
       "  <polygon points=\"0.0,0.0 25.412616514582485,0.0 25.412616514582485,25.412616514582485 0.0,25.412616514582485\" style=\"fill:#ECB172A0;stroke-width:0\"/>\n",
       "\n",
       "  <!-- Text -->\n",
       "  <text x=\"12.706308\" y=\"45.412617\" font-size=\"1.0rem\" font-weight=\"100\" text-anchor=\"middle\" >3</text>\n",
       "  <text x=\"45.412617\" y=\"12.706308\" font-size=\"1.0rem\" font-weight=\"100\" text-anchor=\"middle\" transform=\"rotate(0,45.412617,12.706308)\">1</text>\n",
       "\n",
       "\n",
       "  <!-- Horizontal lines -->\n",
       "  <line x1=\"95\" y1=\"0\" x2=\"118\" y2=\"23\" style=\"stroke-width:2\" />\n",
       "  <line x1=\"95\" y1=\"16\" x2=\"118\" y2=\"40\" />\n",
       "  <line x1=\"95\" y1=\"33\" x2=\"118\" y2=\"57\" />\n",
       "  <line x1=\"95\" y1=\"50\" x2=\"118\" y2=\"74\" />\n",
       "  <line x1=\"95\" y1=\"67\" x2=\"118\" y2=\"91\" />\n",
       "  <line x1=\"95\" y1=\"84\" x2=\"118\" y2=\"108\" />\n",
       "  <line x1=\"95\" y1=\"101\" x2=\"118\" y2=\"125\" />\n",
       "  <line x1=\"95\" y1=\"118\" x2=\"118\" y2=\"142\" />\n",
       "  <line x1=\"95\" y1=\"120\" x2=\"118\" y2=\"143\" style=\"stroke-width:2\" />\n",
       "\n",
       "  <!-- Vertical lines -->\n",
       "  <line x1=\"95\" y1=\"0\" x2=\"95\" y2=\"120\" style=\"stroke-width:2\" />\n",
       "  <line x1=\"118\" y1=\"23\" x2=\"118\" y2=\"143\" />\n",
       "  <line x1=\"118\" y1=\"23\" x2=\"118\" y2=\"143\" style=\"stroke-width:2\" />\n",
       "\n",
       "  <!-- Colored Rectangle -->\n",
       "  <polygon points=\"95.0,0.0 118.83199879322463,23.831998793224624 118.83199879322463,143.8319987932246 95.0,120.0\" style=\"fill:#ECB172A0;stroke-width:0\"/>\n",
       "\n",
       "  <!-- Horizontal lines -->\n",
       "  <line x1=\"95\" y1=\"0\" x2=\"215\" y2=\"0\" style=\"stroke-width:2\" />\n",
       "  <line x1=\"118\" y1=\"23\" x2=\"238\" y2=\"23\" />\n",
       "  <line x1=\"118\" y1=\"23\" x2=\"238\" y2=\"23\" style=\"stroke-width:2\" />\n",
       "\n",
       "  <!-- Vertical lines -->\n",
       "  <line x1=\"95\" y1=\"0\" x2=\"118\" y2=\"23\" style=\"stroke-width:2\" />\n",
       "  <line x1=\"111\" y1=\"0\" x2=\"135\" y2=\"23\" />\n",
       "  <line x1=\"128\" y1=\"0\" x2=\"152\" y2=\"23\" />\n",
       "  <line x1=\"145\" y1=\"0\" x2=\"169\" y2=\"23\" />\n",
       "  <line x1=\"162\" y1=\"0\" x2=\"186\" y2=\"23\" />\n",
       "  <line x1=\"179\" y1=\"0\" x2=\"203\" y2=\"23\" />\n",
       "  <line x1=\"196\" y1=\"0\" x2=\"220\" y2=\"23\" />\n",
       "  <line x1=\"213\" y1=\"0\" x2=\"237\" y2=\"23\" />\n",
       "  <line x1=\"215\" y1=\"0\" x2=\"238\" y2=\"23\" style=\"stroke-width:2\" />\n",
       "\n",
       "  <!-- Colored Rectangle -->\n",
       "  <polygon points=\"95.0,0.0 215.0,0.0 238.8319987932246,23.831998793224624 118.83199879322463,23.831998793224624\" style=\"fill:#ECB172A0;stroke-width:0\"/>\n",
       "\n",
       "  <!-- Horizontal lines -->\n",
       "  <line x1=\"118\" y1=\"23\" x2=\"238\" y2=\"23\" style=\"stroke-width:2\" />\n",
       "  <line x1=\"118\" y1=\"40\" x2=\"238\" y2=\"40\" />\n",
       "  <line x1=\"118\" y1=\"57\" x2=\"238\" y2=\"57\" />\n",
       "  <line x1=\"118\" y1=\"74\" x2=\"238\" y2=\"74\" />\n",
       "  <line x1=\"118\" y1=\"91\" x2=\"238\" y2=\"91\" />\n",
       "  <line x1=\"118\" y1=\"108\" x2=\"238\" y2=\"108\" />\n",
       "  <line x1=\"118\" y1=\"125\" x2=\"238\" y2=\"125\" />\n",
       "  <line x1=\"118\" y1=\"142\" x2=\"238\" y2=\"142\" />\n",
       "  <line x1=\"118\" y1=\"143\" x2=\"238\" y2=\"143\" style=\"stroke-width:2\" />\n",
       "\n",
       "  <!-- Vertical lines -->\n",
       "  <line x1=\"118\" y1=\"23\" x2=\"118\" y2=\"143\" style=\"stroke-width:2\" />\n",
       "  <line x1=\"135\" y1=\"23\" x2=\"135\" y2=\"143\" />\n",
       "  <line x1=\"152\" y1=\"23\" x2=\"152\" y2=\"143\" />\n",
       "  <line x1=\"169\" y1=\"23\" x2=\"169\" y2=\"143\" />\n",
       "  <line x1=\"186\" y1=\"23\" x2=\"186\" y2=\"143\" />\n",
       "  <line x1=\"203\" y1=\"23\" x2=\"203\" y2=\"143\" />\n",
       "  <line x1=\"220\" y1=\"23\" x2=\"220\" y2=\"143\" />\n",
       "  <line x1=\"237\" y1=\"23\" x2=\"237\" y2=\"143\" />\n",
       "  <line x1=\"238\" y1=\"23\" x2=\"238\" y2=\"143\" style=\"stroke-width:2\" />\n",
       "\n",
       "  <!-- Colored Rectangle -->\n",
       "  <polygon points=\"118.83199879322463,23.831998793224624 238.8319987932246,23.831998793224624 238.8319987932246,143.8319987932246 118.83199879322463,143.8319987932246\" style=\"fill:#ECB172A0;stroke-width:0\"/>\n",
       "\n",
       "  <!-- Text -->\n",
       "  <text x=\"178.831999\" y=\"163.831999\" font-size=\"1.0rem\" font-weight=\"100\" text-anchor=\"middle\" >1810</text>\n",
       "  <text x=\"258.831999\" y=\"83.831999\" font-size=\"1.0rem\" font-weight=\"100\" text-anchor=\"middle\" transform=\"rotate(-90,258.831999,83.831999)\">1810</text>\n",
       "  <text x=\"96.915999\" y=\"151.915999\" font-size=\"1.0rem\" font-weight=\"100\" text-anchor=\"middle\" transform=\"rotate(45,96.915999,151.915999)\">261</text>\n",
       "</svg>\n",
       "        </td>\n",
       "    </tr>\n",
       "</table></div></div></li><li class='xr-section-item'><input id='section-5b78541c-ed8e-4717-847d-3937f6858752' class='xr-section-summary-in' type='checkbox'  checked><label for='section-5b78541c-ed8e-4717-847d-3937f6858752' class='xr-section-summary' >Coordinates: <span>(5)</span></label><div class='xr-section-inline-details'></div><div class='xr-section-details'><ul class='xr-var-list'><li class='xr-var-item'><div class='xr-var-name'><span class='xr-has-index'>t</span></div><div class='xr-var-dims'>(t)</div><div class='xr-var-dtype'>int64</div><div class='xr-var-preview xr-preview'>0</div><input id='attrs-a03db522-e7ab-4ea6-8f03-dedd08ad75bd' class='xr-var-attrs-in' type='checkbox' ><label for='attrs-a03db522-e7ab-4ea6-8f03-dedd08ad75bd' title='Show/Hide attributes'><svg class='icon xr-icon-file-text2'><use xlink:href='#icon-file-text2'></use></svg></label><input id='data-fae56dcd-5042-49dc-8ec5-a0951fbaa8af' class='xr-var-data-in' type='checkbox'><label for='data-fae56dcd-5042-49dc-8ec5-a0951fbaa8af' title='Show/Hide data repr'><svg class='icon xr-icon-database'><use xlink:href='#icon-database'></use></svg></label><div class='xr-var-attrs'><dl class='xr-attrs'><dt><span>long_name :</span></dt><dd>t</dd><dt><span>units :</span></dt><dd></dd></dl></div><div class='xr-var-data'><pre>array([0])</pre></div></li><li class='xr-var-item'><div class='xr-var-name'><span class='xr-has-index'>z</span></div><div class='xr-var-dims'>(z)</div><div class='xr-var-dtype'>float64</div><div class='xr-var-preview xr-preview'>93.6 94.0 94.4 ... 197.2 197.6</div><input id='attrs-40ce2e27-688b-4c33-b64c-2fdc5389cd37' class='xr-var-attrs-in' type='checkbox' ><label for='attrs-40ce2e27-688b-4c33-b64c-2fdc5389cd37' title='Show/Hide attributes'><svg class='icon xr-icon-file-text2'><use xlink:href='#icon-file-text2'></use></svg></label><input id='data-7492defd-0f86-4917-9b65-e5db8839b4ce' class='xr-var-data-in' type='checkbox'><label for='data-7492defd-0f86-4917-9b65-e5db8839b4ce' title='Show/Hide data repr'><svg class='icon xr-icon-database'><use xlink:href='#icon-database'></use></svg></label><div class='xr-var-attrs'><dl class='xr-attrs'><dt><span>long_name :</span></dt><dd>z</dd><dt><span>units :</span></dt><dd></dd></dl></div><div class='xr-var-data'><pre>array([ 93.6,  94. ,  94.4, ..., 196.8, 197.2, 197.6], shape=(261,))</pre></div></li><li class='xr-var-item'><div class='xr-var-name'><span class='xr-has-index'>y</span></div><div class='xr-var-dims'>(y)</div><div class='xr-var-dtype'>float64</div><div class='xr-var-preview xr-preview'>0.0 0.047 0.094 ... 84.98 85.02</div><input id='attrs-56818906-2ef8-4714-999f-7e9ee022fecc' class='xr-var-attrs-in' type='checkbox' ><label for='attrs-56818906-2ef8-4714-999f-7e9ee022fecc' title='Show/Hide attributes'><svg class='icon xr-icon-file-text2'><use xlink:href='#icon-file-text2'></use></svg></label><input id='data-aae009e8-f370-4320-9095-bd179e22386c' class='xr-var-data-in' type='checkbox'><label for='data-aae009e8-f370-4320-9095-bd179e22386c' title='Show/Hide data repr'><svg class='icon xr-icon-database'><use xlink:href='#icon-database'></use></svg></label><div class='xr-var-attrs'><dl class='xr-attrs'><dt><span>long_name :</span></dt><dd>y</dd><dt><span>units :</span></dt><dd></dd></dl></div><div class='xr-var-data'><pre>array([0.0000e+00, 4.7000e-02, 9.4000e-02, ..., 8.4929e+01, 8.4976e+01,\n",
       "       8.5023e+01], shape=(1810,))</pre></div></li><li class='xr-var-item'><div class='xr-var-name'><span class='xr-has-index'>x</span></div><div class='xr-var-dims'>(x)</div><div class='xr-var-dtype'>float64</div><div class='xr-var-preview xr-preview'>0.0 0.047 0.094 ... 84.98 85.02</div><input id='attrs-54528583-9478-4069-a6df-be87bcd3eafe' class='xr-var-attrs-in' type='checkbox' ><label for='attrs-54528583-9478-4069-a6df-be87bcd3eafe' title='Show/Hide attributes'><svg class='icon xr-icon-file-text2'><use xlink:href='#icon-file-text2'></use></svg></label><input id='data-194191b1-eae7-48e3-809e-6d169d944aa3' class='xr-var-data-in' type='checkbox'><label for='data-194191b1-eae7-48e3-809e-6d169d944aa3' title='Show/Hide data repr'><svg class='icon xr-icon-database'><use xlink:href='#icon-database'></use></svg></label><div class='xr-var-attrs'><dl class='xr-attrs'><dt><span>long_name :</span></dt><dd>x</dd><dt><span>units :</span></dt><dd></dd></dl></div><div class='xr-var-data'><pre>array([0.0000e+00, 4.7000e-02, 9.4000e-02, ..., 8.4929e+01, 8.4976e+01,\n",
       "       8.5023e+01], shape=(1810,))</pre></div></li><li class='xr-var-item'><div class='xr-var-name'><span class='xr-has-index'>c</span></div><div class='xr-var-dims'>(c)</div><div class='xr-var-dtype'>&lt;U1</div><div class='xr-var-preview xr-preview'>&#x27;0&#x27; &#x27;1&#x27; &#x27;2&#x27;</div><input id='attrs-63fca5bf-e6c0-4ce6-9cfc-ba7cd08ee2ab' class='xr-var-attrs-in' type='checkbox' disabled><label for='attrs-63fca5bf-e6c0-4ce6-9cfc-ba7cd08ee2ab' title='Show/Hide attributes'><svg class='icon xr-icon-file-text2'><use xlink:href='#icon-file-text2'></use></svg></label><input id='data-edda33ce-fea5-44f1-9463-039a13e5f4a2' class='xr-var-data-in' type='checkbox'><label for='data-edda33ce-fea5-44f1-9463-039a13e5f4a2' title='Show/Hide data repr'><svg class='icon xr-icon-database'><use xlink:href='#icon-database'></use></svg></label><div class='xr-var-attrs'><dl class='xr-attrs'></dl></div><div class='xr-var-data'><pre>array([&#x27;0&#x27;, &#x27;1&#x27;, &#x27;2&#x27;], dtype=&#x27;&lt;U1&#x27;)</pre></div></li></ul></div></li><li class='xr-section-item'><input id='section-de6c9917-2ba5-4756-8957-ddb5e8198f8a' class='xr-section-summary-in' type='checkbox'  ><label for='section-de6c9917-2ba5-4756-8957-ddb5e8198f8a' class='xr-section-summary' >Indexes: <span>(5)</span></label><div class='xr-section-inline-details'></div><div class='xr-section-details'><ul class='xr-var-list'><li class='xr-var-item'><div class='xr-index-name'><div>t</div></div><div class='xr-index-preview'>PandasIndex</div><input type='checkbox' disabled/><label></label><input id='index-545f177c-58df-49bb-a7af-12a1391a294e' class='xr-index-data-in' type='checkbox'/><label for='index-545f177c-58df-49bb-a7af-12a1391a294e' title='Show/Hide index repr'><svg class='icon xr-icon-database'><use xlink:href='#icon-database'></use></svg></label><div class='xr-index-data'><pre>PandasIndex(Index([0], dtype=&#x27;int64&#x27;, name=&#x27;t&#x27;))</pre></div></li><li class='xr-var-item'><div class='xr-index-name'><div>z</div></div><div class='xr-index-preview'>PandasIndex</div><input type='checkbox' disabled/><label></label><input id='index-888d7bc4-26dc-4aef-86f1-782865ca5d73' class='xr-index-data-in' type='checkbox'/><label for='index-888d7bc4-26dc-4aef-86f1-782865ca5d73' title='Show/Hide index repr'><svg class='icon xr-icon-database'><use xlink:href='#icon-database'></use></svg></label><div class='xr-index-data'><pre>PandasIndex(Index([ 93.60000000000001,  94.00000000000001,  94.40000000000002,\n",
       "        94.80000000000003,  95.20000000000003,  95.60000000000004,\n",
       "        96.00000000000004,  96.40000000000005,  96.80000000000005,\n",
       "        97.20000000000006,\n",
       "       ...\n",
       "       194.00000000000142, 194.40000000000146, 194.80000000000143,\n",
       "       195.20000000000147, 195.60000000000144, 196.00000000000148,\n",
       "       196.40000000000146,  196.8000000000015, 197.20000000000147,\n",
       "        197.6000000000015],\n",
       "      dtype=&#x27;float64&#x27;, name=&#x27;z&#x27;, length=261))</pre></div></li><li class='xr-var-item'><div class='xr-index-name'><div>y</div></div><div class='xr-index-preview'>PandasIndex</div><input type='checkbox' disabled/><label></label><input id='index-536ae94f-3611-4217-bb87-0492b6c9739e' class='xr-index-data-in' type='checkbox'/><label for='index-536ae94f-3611-4217-bb87-0492b6c9739e' title='Show/Hide index repr'><svg class='icon xr-icon-database'><use xlink:href='#icon-database'></use></svg></label><div class='xr-index-data'><pre>PandasIndex(Index([                0.0,               0.047,               0.094,\n",
       "       0.14100000000000001,               0.188,               0.235,\n",
       "       0.28200000000000003,               0.329,               0.376,\n",
       "                     0.423,\n",
       "       ...\n",
       "                      84.6,              84.647,              84.694,\n",
       "                    84.741,              84.788,              84.835,\n",
       "                    84.882,              84.929,              84.976,\n",
       "                    85.023],\n",
       "      dtype=&#x27;float64&#x27;, name=&#x27;y&#x27;, length=1810))</pre></div></li><li class='xr-var-item'><div class='xr-index-name'><div>x</div></div><div class='xr-index-preview'>PandasIndex</div><input type='checkbox' disabled/><label></label><input id='index-76ddbfa0-ec6e-46d4-9034-0288b5f20024' class='xr-index-data-in' type='checkbox'/><label for='index-76ddbfa0-ec6e-46d4-9034-0288b5f20024' title='Show/Hide index repr'><svg class='icon xr-icon-database'><use xlink:href='#icon-database'></use></svg></label><div class='xr-index-data'><pre>PandasIndex(Index([                0.0,               0.047,               0.094,\n",
       "       0.14100000000000001,               0.188,               0.235,\n",
       "       0.28200000000000003,               0.329,               0.376,\n",
       "                     0.423,\n",
       "       ...\n",
       "                      84.6,              84.647,              84.694,\n",
       "                    84.741,              84.788,              84.835,\n",
       "                    84.882,              84.929,              84.976,\n",
       "                    85.023],\n",
       "      dtype=&#x27;float64&#x27;, name=&#x27;x&#x27;, length=1810))</pre></div></li><li class='xr-var-item'><div class='xr-index-name'><div>c</div></div><div class='xr-index-preview'>PandasIndex</div><input type='checkbox' disabled/><label></label><input id='index-8b6f1407-ef6e-43c3-a8c6-df171bb85212' class='xr-index-data-in' type='checkbox'/><label for='index-8b6f1407-ef6e-43c3-a8c6-df171bb85212' title='Show/Hide index repr'><svg class='icon xr-icon-database'><use xlink:href='#icon-database'></use></svg></label><div class='xr-index-data'><pre>PandasIndex(Index([&#x27;0&#x27;, &#x27;1&#x27;, &#x27;2&#x27;], dtype=&#x27;object&#x27;, name=&#x27;c&#x27;))</pre></div></li></ul></div></li><li class='xr-section-item'><input id='section-d05402ba-19c7-4ae3-b887-0f31c301b124' class='xr-section-summary-in' type='checkbox'  checked><label for='section-d05402ba-19c7-4ae3-b887-0f31c301b124' class='xr-section-summary' >Attributes: <span>(1)</span></label><div class='xr-section-inline-details'></div><div class='xr-section-details'><dl class='xr-attrs'><dt><span>transforms :</span></dt><dd>{&#x27;affine_metadata&#x27;: &lt;xarray.DataArray (t: 1, x_in: 4, x_out: 4)&gt; Size: 128B\n",
       "array([[[1., 0., 0., 0.],\n",
       "        [0., 1., 0., 0.],\n",
       "        [0., 0., 1., 0.],\n",
       "        [0., 0., 0., 1.]]])\n",
       "Coordinates:\n",
       "  * x_in     (x_in) &lt;U1 16B &#x27;z&#x27; &#x27;y&#x27; &#x27;x&#x27; &#x27;1&#x27;\n",
       "  * x_out    (x_out) &lt;U1 16B &#x27;z&#x27; &#x27;y&#x27; &#x27;x&#x27; &#x27;1&#x27;\n",
       "  * t        (t) int64 8B 0}</dd></dl></div></li></ul></div></div>"
      ],
      "text/plain": [
       "<xarray.DataArray 'image' (t: 1, c: 3, z: 261, y: 1810, x: 1810)> Size: 5GB\n",
       "dask.array<from-zarr, shape=(1, 3, 261, 1810, 1810), dtype=uint16, chunksize=(1, 1, 256, 256, 256), chunktype=numpy.ndarray>\n",
       "Coordinates:\n",
       "  * t        (t) int64 8B 0\n",
       "  * z        (z) float64 2kB 93.6 94.0 94.4 94.8 ... 196.4 196.8 197.2 197.6\n",
       "  * y        (y) float64 14kB 0.0 0.047 0.094 0.141 ... 84.88 84.93 84.98 85.02\n",
       "  * x        (x) float64 14kB 0.0 0.047 0.094 0.141 ... 84.88 84.93 84.98 85.02\n",
       "  * c        (c) <U1 12B '0' '1' '2'\n",
       "Attributes:\n",
       "    transforms:  {'affine_metadata': <xarray.DataArray (t: 1, x_in: 4, x_out:..."
      ]
     },
     "execution_count": 17,
     "metadata": {},
     "output_type": "execute_result"
    }
   ],
   "source": [
    "sim"
   ]
  },
  {
   "cell_type": "code",
   "execution_count": 18,
   "metadata": {},
   "outputs": [
    {
     "data": {
      "image/png": "[encoded data removed]",
      "text/plain": [
       "<Figure size 640x480 with 1 Axes>"
      ]
     },
     "metadata": {},
     "output_type": "display_data"
    }
   ],
   "source": [
    "# visualize tile positions/configuration\n",
    "\n",
    "# uncomment the following line for 3D interactivity with the plot (requires ipympl to be installed)\n",
    "# % matplotlib widget\n",
    "\n",
    "from multiview_stitcher import vis_utils\n",
    "\n",
    "fig, ax = vis_utils.plot_positions(\n",
    "    msims,\n",
    "    use_positional_colors=True, # set to False for faster execution in case of more than 20 tiles/views\n",
    "    transform_key='affine_metadata'\n",
    "    )"
   ]
  },
  {
   "cell_type": "code",
   "execution_count": 19,
   "metadata": {},
   "outputs": [],
   "source": [
    "# Turn channel alignment on or off\n",
    "perform_channel_alignment = False\n",
    "\n",
    "# Channel alignment is performed using a single tile.\n",
    "# Choose here which tile (index) to use.\n",
    "channel_alignment_tile_index = 0\n",
    "\n",
    "curr_transform_key = 'affine_metadata'\n",
    "if perform_channel_alignment:\n",
    "    curr_transform_key = 'affine_metadata_ch_reg'\n",
    "\n",
    "    channels = msims[channel_alignment_tile_index]['scale0/image'].coords['c']\n",
    "\n",
    "    # select chosen tiles for registration\n",
    "    msims_ch_reg = [msi_utils.multiscale_sel_coords(msims[5], {'c': ch})\n",
    "                    for ch in channels]\n",
    "\n",
    "    with dask.diagnostics.ProgressBar():\n",
    "        params_c = registration.register(\n",
    "            msims_ch_reg,\n",
    "            registration_binning={'z': 2, 'y': 4, 'x': 4},\n",
    "            reg_channel_index=0,\n",
    "            transform_key='affine_metadata',\n",
    "            pre_registration_pruning_method=None,\n",
    "        )\n",
    "\n",
    "    # assign channel coordinates to obtained parameters\n",
    "    params_c = xr.concat(params_c, dim='c').assign_coords({'c': channels})\n",
    "\n",
    "    # set obtained parameters for all tiles\n",
    "    for msim in msims:\n",
    "        msi_utils.set_affine_transform(\n",
    "            msim, params_c, transform_key=curr_transform_key, base_transform_key='affine_metadata')"
   ]
  },
  {
   "cell_type": "code",
   "execution_count": 20,
   "metadata": {},
   "outputs": [
    {
     "name": "stdout",
     "output_type": "stream",
     "text": [
      "[########################################] | 100% Completed | 711.91 ms\n",
      "[########################################] | 100% Completed | 12.10 ss\n"
     ]
    }
   ],
   "source": [
    "with dask.diagnostics.ProgressBar():\n",
    "\n",
    "    params = registration.register(\n",
    "        msims,\n",
    "        registration_binning={'z': 1, 'y': 3, 'x': 3},\n",
    "        reg_channel_index=0,\n",
    "        transform_key=curr_transform_key,\n",
    "        new_transform_key='affine_registered',\n",
    "        pre_registration_pruning_method=\"keep_axis_aligned\", # works well for tiles on a grid\n",
    "    )"
   ]
  },
  {
   "cell_type": "markdown",
   "metadata": {},
   "source": [
    "### Print the obtained parameters.\n",
    "How to interpret them?\n",
    "\n",
    "parameters are expressed as homogeneous matrices of dimensions (n+1, n+1)\n",
    "- the first n rows and columns correspond to the linear part of the transformation\n",
    "- the first three elements of the last column correspond to the translation in (z, y, x)\n",
    "- the parameters map the coordinates of the input files (considering their scale and translation) into a world coordinate system in which the tiles are registered"
   ]
  },
  {
   "cell_type": "code",
   "execution_count": 21,
   "metadata": {},
   "outputs": [
    {
     "name": "stdout",
     "output_type": "stream",
     "text": [
      "tile index 0\n",
      " [[1. 0. 0. 0.]\n",
      " [0. 1. 0. 0.]\n",
      " [0. 0. 1. 0.]\n",
      " [0. 0. 0. 1.]]\n",
      "tile index 1\n",
      " [[1.  0.  0.  4.8]\n",
      " [0.  1.  0.  0. ]\n",
      " [0.  0.  1.  0. ]\n",
      " [0.  0.  0.  1. ]]\n"
     ]
    }
   ],
   "source": [
    "for imsim, msim in enumerate(msims):\n",
    "    affine = np.array(msi_utils.get_transform_from_msim(msim, transform_key='affine_registered')[0])\n",
    "    print(f'tile index {imsim}\\n', affine)"
   ]
  },
  {
   "cell_type": "markdown",
   "metadata": {},
   "source": [
    "### Fuse views (linear blending)\n",
    "Save output into OME-ZARR"
   ]
  },
  {
   "cell_type": "code",
   "execution_count": 22,
   "metadata": {},
   "outputs": [
    {
     "name": "stdout",
     "output_type": "stream",
     "text": [
      "Fusing views and saving output to /mnt/Data/nuno_martins/Image_data/Ex010_Re01/ExM/20250417_2/Airyscan_processed/split_czi/stitched_files/fused.zarr...\n",
      "[########################################] | 100% Completed | 175.55 s\n",
      "[########################################] | 100% Completed | 2.83 sms\n",
      "[########################################] | 100% Completed | 520.54 ms\n",
      "[########################################] | 100% Completed | 201.81 ms\n",
      "[########################################] | 100% Completed | 101.31 ms\n",
      "[########################################] | 100% Completed | 101.45 ms\n",
      "[########################################] | 100% Completed | 101.55 ms\n",
      "[########################################] | 100% Completed | 101.49 ms\n",
      "[########################################] | 100% Completed | 101.37 ms\n",
      "[########################################] | 100% Completed | 101.39 ms\n"
     ]
    }
   ],
   "source": [
    "output_dir = save_path\n",
    "output_filename = os.path.join(output_dir, 'fused.zarr')\n",
    "\n",
    "fused = fusion.fuse(\n",
    "    [msi_utils.get_sim_from_msim(msim) for msim in msims],\n",
    "    transform_key='affine_registered',\n",
    "    output_chunksize=256,\n",
    "    )\n",
    "\n",
    "print(f'Fusing views and saving output to {output_filename}...')\n",
    "with dask.diagnostics.ProgressBar():\n",
    "    fused = ngff_utils.write_sim_to_ome_zarr(\n",
    "        fused, output_filename, overwrite=True\n",
    "    )"
   ]
  },
  {
   "cell_type": "code",
   "execution_count": null,
   "metadata": {},
   "outputs": [],
   "source": []
  }
 ],
 "metadata": {
  "kernelspec": {
   "display_name": "pyczi",
   "language": "python",
   "name": "python3"
  },
  "language_info": {
   "codemirror_mode": {
    "name": "ipython",
    "version": 3
   },
   "file_extension": ".py",
   "mimetype": "text/x-python",
   "name": "python",
   "nbconvert_exporter": "python",
   "pygments_lexer": "ipython3",
   "version": "3.10.16"
  }
 },
 "nbformat": 4,
 "nbformat_minor": 2
}
