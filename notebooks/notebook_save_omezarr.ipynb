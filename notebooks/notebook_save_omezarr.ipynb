{
 "cells": [
  {
   "cell_type": "markdown",
   "metadata": {},
   "source": [
    "# Import packages\n",
    "run the following cell to import necessary packages to run the analysis"
   ]
  },
  {
   "cell_type": "code",
   "execution_count": 1,
   "metadata": {},
   "outputs": [],
   "source": [
    "import os\n",
    "from pathlib import Path\n",
    "\n",
    "from matplotlib import pyplot as plt\n",
    "from tqdm.notebook import tqdm\n",
    "import numpy as np\n",
    "# from pylibCZIrw import czi as pyczi\n",
    "# from bioio import BioImage\n",
    "# import bioio_czi"
   ]
  },
  {
   "cell_type": "markdown",
   "metadata": {},
   "source": [
    "# Reading data"
   ]
  },
  {
   "cell_type": "code",
   "execution_count": 2,
   "metadata": {},
   "outputs": [
    {
     "name": "stdout",
     "output_type": "stream",
     "text": [
      "4\n"
     ]
    }
   ],
   "source": [
    "# data_path = Path('/mnt/Data/nuno_martins/Image_data/Ex011_Re01/ExM/sample_data/')\n",
    "data_path = Path('/mnt/d/NPMartins/test_data/')\n",
    "filelist = os.listdir(data_path)\n",
    "print(len(filelist))"
   ]
  },
  {
   "cell_type": "code",
   "execution_count": 3,
   "metadata": {},
   "outputs": [
    {
     "data": {
      "text/plain": [
       "['NPM_Ex011_Re01_a2_postExM_Im-01_AcquisitionBlock4-AiryscanProcessing_sample1.tif',\n",
       " 'NPM_Ex011_Re01_a2_postExM_Im-01_AcquisitionBlock4-AiryscanProcessing_sample2.tif']"
      ]
     },
     "execution_count": 3,
     "metadata": {},
     "output_type": "execute_result"
    }
   ],
   "source": [
    "filelist = [x for x in filelist if x.find('.tif')>0]\n",
    "filelist.sort()\n",
    "filelist"
   ]
  },
  {
   "cell_type": "code",
   "execution_count": 4,
   "metadata": {},
   "outputs": [
    {
     "name": "stdout",
     "output_type": "stream",
     "text": [
      "/mnt/d/NPMartins/test_data/NPM_Ex011_Re01_a2_postExM_Im-01_AcquisitionBlock4-AiryscanProcessing_sample1.tif\n",
      "NPM_Ex011_Re01_a2_postExM_Im-01_AcquisitionBlock4-AiryscanProcessing_sample1\n"
     ]
    }
   ],
   "source": [
    "file_index = 0\n",
    "file_path = str(data_path)+'/'+filelist[file_index]\n",
    "filename = filelist[file_index][:filelist[file_index].index('.tif')]\n",
    "print(file_path)\n",
    "print(filename)"
   ]
  },
  {
   "cell_type": "code",
   "execution_count": 5,
   "metadata": {},
   "outputs": [
    {
     "name": "stdout",
     "output_type": "stream",
     "text": [
      "/mnt/d/NPMartins/test_data/zarr_export\n"
     ]
    }
   ],
   "source": [
    "save_path = Path(str(data_path)+'/zarr_export/')\n",
    "save_path.mkdir(parents=True, exist_ok=True)\n",
    "print(save_path)"
   ]
  },
  {
   "cell_type": "markdown",
   "metadata": {},
   "source": [
    "___\n",
    "# Read raw data\n",
    "reading raw tile data from `czi` tile without stitching for visualization."
   ]
  },
  {
   "cell_type": "code",
   "execution_count": 6,
   "metadata": {},
   "outputs": [],
   "source": [
    "from tifffile import imread"
   ]
  },
  {
   "cell_type": "code",
   "execution_count": 7,
   "metadata": {},
   "outputs": [],
   "source": [
    "image_data = imread(str(data_path) + '/' + filelist[file_index])"
   ]
  },
  {
   "cell_type": "code",
   "execution_count": 8,
   "metadata": {},
   "outputs": [
    {
     "data": {
      "text/plain": [
       "(176, 2, 1021, 1942)"
      ]
     },
     "execution_count": 8,
     "metadata": {},
     "output_type": "execute_result"
    }
   ],
   "source": [
    "image_data.shape"
   ]
  },
  {
   "cell_type": "code",
   "execution_count": 11,
   "metadata": {},
   "outputs": [],
   "source": [
    "from bioio import BioImage\n",
    "# import bioio_czi\n",
    "from bioio.writers.ome_zarr_writer_2 import OmeZarrWriter, compute_level_shapes, compute_level_chunk_sizes_zslice\n",
    "# from bioio.writers.ome_zarr_writer import OmeZarrWriter"
   ]
  },
  {
   "cell_type": "code",
   "execution_count": 12,
   "metadata": {},
   "outputs": [
    {
     "data": {
      "text/plain": [
       "(1, 2, 176, 1021, 1942)"
      ]
     },
     "execution_count": 12,
     "metadata": {},
     "output_type": "execute_result"
    }
   ],
   "source": [
    "image_shape = (1, image_data.shape[1], image_data.shape[0], image_data.shape[2], image_data.shape[3])\n",
    "image_shape"
   ]
  },
  {
   "cell_type": "code",
   "execution_count": 13,
   "metadata": {},
   "outputs": [],
   "source": [
    "scaling = (1, 1, 2, 2, 2)\n",
    "num_levels = 3"
   ]
  },
  {
   "cell_type": "code",
   "execution_count": 14,
   "metadata": {},
   "outputs": [
    {
     "data": {
      "text/plain": [
       "[(1, 2, 176, 1021, 1942), (1, 2, 88, 510, 971), (1, 2, 44, 255, 485)]"
      ]
     },
     "execution_count": 14,
     "metadata": {},
     "output_type": "execute_result"
    }
   ],
   "source": [
    "shapes = compute_level_shapes(image_shape, scaling, num_levels)\n",
    "shapes"
   ]
  },
  {
   "cell_type": "code",
   "execution_count": 15,
   "metadata": {},
   "outputs": [
    {
     "data": {
      "text/plain": [
       "[(1, 1, 1, 1021, 1942), (1, 1, 4, 510, 971), (1, 1, 16, 255, 485)]"
      ]
     },
     "execution_count": 15,
     "metadata": {},
     "output_type": "execute_result"
    }
   ],
   "source": [
    "chunks = compute_level_chunk_sizes_zslice(shapes)\n",
    "chunks"
   ]
  },
  {
   "cell_type": "code",
   "execution_count": 16,
   "metadata": {},
   "outputs": [],
   "source": [
    "# writer = OmeZarrWriter(str(save_path)+'/sample1.ome.zarr')\n",
    "writer = OmeZarrWriter()\n",
    "writer.init_store(str(save_path)+'/sample1_bioio.zarr', shapes, chunks, image_data.dtype)"
   ]
  },
  {
   "cell_type": "code",
   "execution_count": 9,
   "metadata": {},
   "outputs": [
    {
     "data": {
      "text/plain": [
       "(1, 2, 176, 1021, 1942)"
      ]
     },
     "execution_count": 9,
     "metadata": {},
     "output_type": "execute_result"
    }
   ],
   "source": [
    "image_data_save = np.moveaxis(image_data, 0, 1)\n",
    "image_data_save = np.expand_dims(image_data_save, 0)\n",
    "image_data_save.shape"
   ]
  },
  {
   "cell_type": "code",
   "execution_count": 18,
   "metadata": {},
   "outputs": [],
   "source": [
    "writer.write_t_batches_array(image_data_save, tbatch=4)\n",
    "# writer.write_image(\n",
    "#     image_data_save,\n",
    "#     image_name='sample1.ome.zarr',\n",
    "#     physical_pixel_sizes=None,\n",
    "#     channel_names=['Cy5', 'DAPI'],\n",
    "#     # channel_colors=['FF0000', '0080ff'],\n",
    "#     channel_colors=[255, 125],\n",
    "# )"
   ]
  },
  {
   "cell_type": "code",
   "execution_count": 18,
   "metadata": {},
   "outputs": [],
   "source": [
    "# meta = writer.build_ome(\n",
    "#     size_z=image_shape[2],\n",
    "#     image_name='sample1.ome.zarr',\n",
    "#     channel_names=['Cy5', 'DAPI'],\n",
    "#     channel_colors=[255, 125],\n",
    "#     channel_minmax=[(0, 3000), (0, 3000)]\n",
    "# )"
   ]
  },
  {
   "cell_type": "code",
   "execution_count": 19,
   "metadata": {},
   "outputs": [],
   "source": [
    "meta = writer.generate_metadata(\n",
    "    image_name='sample1_bioio.zarr',\n",
    "    channel_names=['Cy5', 'DAPI'],\n",
    "    physical_dims={\"t\": 1, \"z\":0.4, \"y\":0.047, \"x\":0.047},\n",
    "    physical_units={\"t\":\"minute\", \"z\":\"micrometer\", \"y\":\"micrometer\", \"x\":\"micrometer\"},\n",
    "    # channel_colors=[\"FF0000\", \"0080ff\"],\n",
    "    # channel_colors=['red', 'cyan'],\n",
    "    channel_colors=[255, 255],\n",
    "    # channels_minmax=[(3000, 65535, 0, 0), (3000, 65535, 0, 0)],\n",
    ")"
   ]
  },
  {
   "cell_type": "code",
   "execution_count": 24,
   "metadata": {},
   "outputs": [],
   "source": [
    "from bioio.writers.ome_zarr_writer_2 import build_ome"
   ]
  },
  {
   "cell_type": "code",
   "execution_count": 20,
   "metadata": {},
   "outputs": [],
   "source": [
    "writer.write_metadata(meta)"
   ]
  },
  {
   "cell_type": "markdown",
   "metadata": {},
   "source": [
    "___\n",
    "with `ome-zarr`\n"
   ]
  },
  {
   "cell_type": "code",
   "execution_count": 10,
   "metadata": {},
   "outputs": [],
   "source": [
    "import zarr\n",
    "from ome_zarr.io import parse_url\n",
    "from ome_zarr.writer import write_image"
   ]
  },
  {
   "cell_type": "code",
   "execution_count": null,
   "metadata": {},
   "outputs": [],
   "source": [
    "save_path_2 = str(save_path) + '/' + \"sample1_omezarrpy.zarr\""
   ]
  },
  {
   "cell_type": "code",
   "execution_count": 23,
   "metadata": {},
   "outputs": [],
   "source": [
    "store = parse_url(save_path_2, mode='w').store"
   ]
  },
  {
   "cell_type": "code",
   "execution_count": 24,
   "metadata": {},
   "outputs": [],
   "source": [
    "root = zarr.group(store=store)"
   ]
  },
  {
   "cell_type": "code",
   "execution_count": 25,
   "metadata": {},
   "outputs": [
    {
     "data": {
      "text/plain": [
       "[]"
      ]
     },
     "execution_count": 25,
     "metadata": {},
     "output_type": "execute_result"
    }
   ],
   "source": [
    "write_image(\n",
    "    image = image_data_save,\n",
    "    group=root,\n",
    "    axes='tczyx',\n",
    "    # storage_options=dict(chunks=(1, 1, 128, 128))\n",
    ")"
   ]
  },
  {
   "cell_type": "markdown",
   "metadata": {},
   "source": [
    "___\n",
    "save in version 0.3"
   ]
  },
  {
   "cell_type": "code",
   "execution_count": 23,
   "metadata": {},
   "outputs": [],
   "source": [
    "from ome_zarr.format import FormatV03"
   ]
  },
  {
   "cell_type": "code",
   "execution_count": 17,
   "metadata": {},
   "outputs": [],
   "source": [
    "save_path_3 = str(save_path) + '/' + \"sample1_omezarrpyv0_3.zarr\""
   ]
  },
  {
   "cell_type": "code",
   "execution_count": 18,
   "metadata": {},
   "outputs": [],
   "source": [
    "store = parse_url(save_path_3, mode='w').store"
   ]
  },
  {
   "cell_type": "code",
   "execution_count": 19,
   "metadata": {},
   "outputs": [],
   "source": [
    "root = zarr.group(store=store)"
   ]
  },
  {
   "cell_type": "code",
   "execution_count": 24,
   "metadata": {},
   "outputs": [
    {
     "ename": "TypeError",
     "evalue": "FormatV01.generate_coordinate_transformations() missing 1 required positional argument: 'shapes'",
     "output_type": "error",
     "traceback": [
      "\u001b[0;31m---------------------------------------------------------------------------\u001b[0m",
      "\u001b[0;31mTypeError\u001b[0m                                 Traceback (most recent call last)",
      "Cell \u001b[0;32mIn[24], line 1\u001b[0m\n\u001b[0;32m----> 1\u001b[0m \u001b[43mwrite_image\u001b[49m\u001b[43m(\u001b[49m\n\u001b[1;32m      2\u001b[0m \u001b[43m    \u001b[49m\u001b[43mimage\u001b[49m\u001b[43m \u001b[49m\u001b[38;5;241;43m=\u001b[39;49m\u001b[43m \u001b[49m\u001b[43mimage_data_save\u001b[49m\u001b[43m,\u001b[49m\n\u001b[1;32m      3\u001b[0m \u001b[43m    \u001b[49m\u001b[43mgroup\u001b[49m\u001b[38;5;241;43m=\u001b[39;49m\u001b[43mroot\u001b[49m\u001b[43m,\u001b[49m\n\u001b[1;32m      4\u001b[0m \u001b[43m    \u001b[49m\u001b[43maxes\u001b[49m\u001b[38;5;241;43m=\u001b[39;49m\u001b[38;5;124;43m'\u001b[39;49m\u001b[38;5;124;43mtczyx\u001b[39;49m\u001b[38;5;124;43m'\u001b[39;49m\u001b[43m,\u001b[49m\n\u001b[1;32m      5\u001b[0m \u001b[43m    \u001b[49m\u001b[43mfmt\u001b[49m\u001b[38;5;241;43m=\u001b[39;49m\u001b[43mFormatV03\u001b[49m\u001b[43m,\u001b[49m\n\u001b[1;32m      6\u001b[0m \u001b[43m    \u001b[49m\u001b[38;5;66;43;03m# storage_options=dict(chunks=(1, 1, 128, 128))\u001b[39;49;00m\n\u001b[1;32m      7\u001b[0m \u001b[43m)\u001b[49m\n",
      "File \u001b[0;32m~/miniforge3/envs/pyczi/lib/python3.10/site-packages/ome_zarr/writer.py:525\u001b[0m, in \u001b[0;36mwrite_image\u001b[0;34m(image, group, scaler, chunks, fmt, axes, coordinate_transformations, storage_options, compute, **metadata)\u001b[0m\n\u001b[1;32m    523\u001b[0m \u001b[38;5;28;01melse\u001b[39;00m:\n\u001b[1;32m    524\u001b[0m     mip \u001b[38;5;241m=\u001b[39m _create_mip(image, fmt, scaler, axes)\n\u001b[0;32m--> 525\u001b[0m     dask_delayed_jobs \u001b[38;5;241m=\u001b[39m \u001b[43mwrite_multiscale\u001b[49m\u001b[43m(\u001b[49m\n\u001b[1;32m    526\u001b[0m \u001b[43m        \u001b[49m\u001b[43mmip\u001b[49m\u001b[43m,\u001b[49m\n\u001b[1;32m    527\u001b[0m \u001b[43m        \u001b[49m\u001b[43mgroup\u001b[49m\u001b[43m,\u001b[49m\n\u001b[1;32m    528\u001b[0m \u001b[43m        \u001b[49m\u001b[43mchunks\u001b[49m\u001b[38;5;241;43m=\u001b[39;49m\u001b[43mchunks\u001b[49m\u001b[43m,\u001b[49m\n\u001b[1;32m    529\u001b[0m \u001b[43m        \u001b[49m\u001b[43mfmt\u001b[49m\u001b[38;5;241;43m=\u001b[39;49m\u001b[43mfmt\u001b[49m\u001b[43m,\u001b[49m\n\u001b[1;32m    530\u001b[0m \u001b[43m        \u001b[49m\u001b[43maxes\u001b[49m\u001b[38;5;241;43m=\u001b[39;49m\u001b[43maxes\u001b[49m\u001b[43m,\u001b[49m\n\u001b[1;32m    531\u001b[0m \u001b[43m        \u001b[49m\u001b[43mcoordinate_transformations\u001b[49m\u001b[38;5;241;43m=\u001b[39;49m\u001b[43mcoordinate_transformations\u001b[49m\u001b[43m,\u001b[49m\n\u001b[1;32m    532\u001b[0m \u001b[43m        \u001b[49m\u001b[43mstorage_options\u001b[49m\u001b[38;5;241;43m=\u001b[39;49m\u001b[43mstorage_options\u001b[49m\u001b[43m,\u001b[49m\n\u001b[1;32m    533\u001b[0m \u001b[43m        \u001b[49m\u001b[43mname\u001b[49m\u001b[38;5;241;43m=\u001b[39;49m\u001b[38;5;28;43;01mNone\u001b[39;49;00m\u001b[43m,\u001b[49m\n\u001b[1;32m    534\u001b[0m \u001b[43m        \u001b[49m\u001b[43mcompute\u001b[49m\u001b[38;5;241;43m=\u001b[39;49m\u001b[43mcompute\u001b[49m\u001b[43m,\u001b[49m\n\u001b[1;32m    535\u001b[0m \u001b[43m        \u001b[49m\u001b[38;5;241;43m*\u001b[39;49m\u001b[38;5;241;43m*\u001b[39;49m\u001b[43mmetadata\u001b[49m\u001b[43m,\u001b[49m\n\u001b[1;32m    536\u001b[0m \u001b[43m    \u001b[49m\u001b[43m)\u001b[49m\n\u001b[1;32m    538\u001b[0m \u001b[38;5;28;01mreturn\u001b[39;00m dask_delayed_jobs\n",
      "File \u001b[0;32m~/miniforge3/envs/pyczi/lib/python3.10/site-packages/ome_zarr/writer.py:274\u001b[0m, in \u001b[0;36mwrite_multiscale\u001b[0;34m(pyramid, group, chunks, fmt, axes, coordinate_transformations, storage_options, name, compute, **metadata)\u001b[0m\n\u001b[1;32m    272\u001b[0m \u001b[38;5;28;01mif\u001b[39;00m coordinate_transformations \u001b[38;5;129;01mis\u001b[39;00m \u001b[38;5;28;01mNone\u001b[39;00m:\n\u001b[1;32m    273\u001b[0m     shapes \u001b[38;5;241m=\u001b[39m [data\u001b[38;5;241m.\u001b[39mshape \u001b[38;5;28;01mfor\u001b[39;00m data \u001b[38;5;129;01min\u001b[39;00m pyramid]\n\u001b[0;32m--> 274\u001b[0m     coordinate_transformations \u001b[38;5;241m=\u001b[39m \u001b[43mfmt\u001b[49m\u001b[38;5;241;43m.\u001b[39;49m\u001b[43mgenerate_coordinate_transformations\u001b[49m\u001b[43m(\u001b[49m\u001b[43mshapes\u001b[49m\u001b[43m)\u001b[49m\n\u001b[1;32m    276\u001b[0m \u001b[38;5;66;03m# we validate again later, but this catches length mismatch before zip(datasets...)\u001b[39;00m\n\u001b[1;32m    277\u001b[0m fmt\u001b[38;5;241m.\u001b[39mvalidate_coordinate_transformations(\n\u001b[1;32m    278\u001b[0m     dims, \u001b[38;5;28mlen\u001b[39m(pyramid), coordinate_transformations\n\u001b[1;32m    279\u001b[0m )\n",
      "\u001b[0;31mTypeError\u001b[0m: FormatV01.generate_coordinate_transformations() missing 1 required positional argument: 'shapes'"
     ]
    }
   ],
   "source": [
    "write_image(\n",
    "    image = image_data_save,\n",
    "    group=root,\n",
    "    axes='tczyx',\n",
    "    fmt=FormatV03,\n",
    "    # storage_options=dict(chunks=(1, 1, 128, 128))\n",
    ")"
   ]
  },
  {
   "cell_type": "code",
   "execution_count": null,
   "metadata": {},
   "outputs": [],
   "source": []
  }
 ],
 "metadata": {
  "kernelspec": {
   "display_name": "pyczi",
   "language": "python",
   "name": "python3"
  },
  "language_info": {
   "codemirror_mode": {
    "name": "ipython",
    "version": 3
   },
   "file_extension": ".py",
   "mimetype": "text/x-python",
   "name": "python",
   "nbconvert_exporter": "python",
   "pygments_lexer": "ipython3",
   "version": "3.10.17"
  }
 },
 "nbformat": 4,
 "nbformat_minor": 2
}
